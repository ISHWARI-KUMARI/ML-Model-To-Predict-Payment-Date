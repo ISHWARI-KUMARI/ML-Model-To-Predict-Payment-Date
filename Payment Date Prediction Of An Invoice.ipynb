{
 "cells": [
  {
   "cell_type": "markdown",
   "metadata": {},
   "source": [
    "## PROBLEM STATEMENT\n",
    "\n",
    "### The objective of this Machine Learning Model is:\n",
    "\n",
    "● To predict the payment date of an invoice when it gets created in the system.\n",
    "\n",
    "● Categorize the invoice into different buckets based on predicted payment date.\n",
    "\n",
    "> Invoice for the goods contains various information like the details of the goods purchased and when it should be paid.\n",
    "\n",
    "This is a standard Regression task. Below is the dataset attributes with description.\n",
    "\n",
    "Invoice No | Due Date |  Actual Open Amt | Payment Date | Aging Bucket\n",
    "----------------|------------|--------------|-------------------|----------------------\n",
    "1001 | 03/12/2020 | 9000 | 14/02/2021 | > 60 days\n",
    "1002 | 10/12/2020 | 5000 | 23/12/2020 | 0-15 days\n",
    "1003 | 17/12/2020 | 3000 | 16/01/2021 | 31-45 days"
   ]
  },
  {
   "cell_type": "code",
   "execution_count": 1,
   "metadata": {
    "id": "yXwxLvBQRLGy"
   },
   "outputs": [],
   "source": [
    "import numpy as np       \n",
    "import pandas as pd      \n",
    "import seaborn as sns    \n",
    "import matplotlib.pyplot as plt \n",
    "import matplotlib.ticker as ticker\n",
    "from sklearn.feature_selection import VarianceThreshold\n",
    "from sklearn.preprocessing import LabelEncoder\n",
    "from sklearn.ensemble import RandomForestRegressor\n",
    "from sklearn.metrics import r2_score\n",
    "from sklearn.model_selection import train_test_split,RandomizedSearchCV,GridSearchCV\n",
    "from sklearn import metrics\n",
    "import warnings"
   ]
  },
  {
   "cell_type": "code",
   "execution_count": 2,
   "metadata": {
    "id": "q22L5dg2R3hE"
   },
   "outputs": [],
   "source": [
    "# Reading the data from the dataset.\n",
    "\n",
    "df = pd.read_csv(r'Invoice_dataset.csv')"
   ]
  },
  {
   "cell_type": "code",
   "execution_count": 111,
   "metadata": {
    "colab": {
     "base_uri": "https://localhost:8080/",
     "height": 326
    },
    "id": "xkrO7oh0SDmW",
    "outputId": "af49c290-9a9e-4d31-83b2-f3da87ea805a"
   },
   "outputs": [
    {
     "data": {
      "text/html": [
       "<div>\n",
       "<style scoped>\n",
       "    .dataframe tbody tr th:only-of-type {\n",
       "        vertical-align: middle;\n",
       "    }\n",
       "\n",
       "    .dataframe tbody tr th {\n",
       "        vertical-align: top;\n",
       "    }\n",
       "\n",
       "    .dataframe thead th {\n",
       "        text-align: right;\n",
       "    }\n",
       "</style>\n",
       "<table border=\"1\" class=\"dataframe\">\n",
       "  <thead>\n",
       "    <tr style=\"text-align: right;\">\n",
       "      <th></th>\n",
       "      <th>business_code</th>\n",
       "      <th>cust_number</th>\n",
       "      <th>name_customer</th>\n",
       "      <th>clear_date</th>\n",
       "      <th>buisness_year</th>\n",
       "      <th>doc_id</th>\n",
       "      <th>posting_date</th>\n",
       "      <th>document_create_date</th>\n",
       "      <th>document_create_date.1</th>\n",
       "      <th>due_in_date</th>\n",
       "      <th>invoice_currency</th>\n",
       "      <th>document type</th>\n",
       "      <th>posting_id</th>\n",
       "      <th>area_business</th>\n",
       "      <th>total_open_amount</th>\n",
       "      <th>baseline_create_date</th>\n",
       "      <th>cust_payment_terms</th>\n",
       "      <th>invoice_id</th>\n",
       "      <th>isOpen</th>\n",
       "    </tr>\n",
       "  </thead>\n",
       "  <tbody>\n",
       "    <tr>\n",
       "      <th>0</th>\n",
       "      <td>U001</td>\n",
       "      <td>0200769623</td>\n",
       "      <td>WAL-MAR co</td>\n",
       "      <td>2020-01-21 00:00:00</td>\n",
       "      <td>2020.0</td>\n",
       "      <td>1.930376e+09</td>\n",
       "      <td>2020-01-09</td>\n",
       "      <td>20200108</td>\n",
       "      <td>20200109</td>\n",
       "      <td>20200124.0</td>\n",
       "      <td>USD</td>\n",
       "      <td>RV</td>\n",
       "      <td>1.0</td>\n",
       "      <td>NaN</td>\n",
       "      <td>13442.81</td>\n",
       "      <td>20200109.0</td>\n",
       "      <td>NAH4</td>\n",
       "      <td>1.930376e+09</td>\n",
       "      <td>0</td>\n",
       "    </tr>\n",
       "    <tr>\n",
       "      <th>1</th>\n",
       "      <td>U001</td>\n",
       "      <td>0200705372</td>\n",
       "      <td>FR trust</td>\n",
       "      <td>2019-09-05 00:00:00</td>\n",
       "      <td>2019.0</td>\n",
       "      <td>1.929442e+09</td>\n",
       "      <td>2019-06-07</td>\n",
       "      <td>20190605</td>\n",
       "      <td>20190607</td>\n",
       "      <td>20190905.0</td>\n",
       "      <td>USD</td>\n",
       "      <td>RV</td>\n",
       "      <td>1.0</td>\n",
       "      <td>NaN</td>\n",
       "      <td>1395.64</td>\n",
       "      <td>20190607.0</td>\n",
       "      <td>NAVR</td>\n",
       "      <td>1.929442e+09</td>\n",
       "      <td>0</td>\n",
       "    </tr>\n",
       "    <tr>\n",
       "      <th>2</th>\n",
       "      <td>CA02</td>\n",
       "      <td>0140106408</td>\n",
       "      <td>WAL-M</td>\n",
       "      <td>2019-10-10 00:00:00</td>\n",
       "      <td>2019.0</td>\n",
       "      <td>2.960582e+09</td>\n",
       "      <td>2019-09-24</td>\n",
       "      <td>20190924</td>\n",
       "      <td>20190924</td>\n",
       "      <td>20191004.0</td>\n",
       "      <td>CAD</td>\n",
       "      <td>RV</td>\n",
       "      <td>1.0</td>\n",
       "      <td>NaN</td>\n",
       "      <td>23701.50</td>\n",
       "      <td>20190924.0</td>\n",
       "      <td>CA10</td>\n",
       "      <td>2.960582e+09</td>\n",
       "      <td>0</td>\n",
       "    </tr>\n",
       "    <tr>\n",
       "      <th>3</th>\n",
       "      <td>U001</td>\n",
       "      <td>CCCA02</td>\n",
       "      <td>KRAFT  llc</td>\n",
       "      <td>2019-03-29 00:00:00</td>\n",
       "      <td>2019.0</td>\n",
       "      <td>1.928684e+09</td>\n",
       "      <td>2019-01-27</td>\n",
       "      <td>20190125</td>\n",
       "      <td>20190127</td>\n",
       "      <td>20190303.0</td>\n",
       "      <td>USD</td>\n",
       "      <td>RV</td>\n",
       "      <td>1.0</td>\n",
       "      <td>NaN</td>\n",
       "      <td>40128.00</td>\n",
       "      <td>20190127.0</td>\n",
       "      <td>NAG2</td>\n",
       "      <td>1.928684e+09</td>\n",
       "      <td>0</td>\n",
       "    </tr>\n",
       "    <tr>\n",
       "      <th>4</th>\n",
       "      <td>U001</td>\n",
       "      <td>0200735528</td>\n",
       "      <td>ASSOCIA corporation</td>\n",
       "      <td>2019-05-23 00:00:00</td>\n",
       "      <td>2019.0</td>\n",
       "      <td>1.929260e+09</td>\n",
       "      <td>2019-05-07</td>\n",
       "      <td>20190505</td>\n",
       "      <td>20190507</td>\n",
       "      <td>20190522.0</td>\n",
       "      <td>USD</td>\n",
       "      <td>RV</td>\n",
       "      <td>1.0</td>\n",
       "      <td>NaN</td>\n",
       "      <td>123785.42</td>\n",
       "      <td>20190507.0</td>\n",
       "      <td>NAA8</td>\n",
       "      <td>1.929260e+09</td>\n",
       "      <td>0</td>\n",
       "    </tr>\n",
       "  </tbody>\n",
       "</table>\n",
       "</div>"
      ],
      "text/plain": [
       "  business_code cust_number        name_customer           clear_date  \\\n",
       "0          U001  0200769623           WAL-MAR co  2020-01-21 00:00:00   \n",
       "1          U001  0200705372             FR trust  2019-09-05 00:00:00   \n",
       "2          CA02  0140106408               WAL-M   2019-10-10 00:00:00   \n",
       "3          U001      CCCA02           KRAFT  llc  2019-03-29 00:00:00   \n",
       "4          U001  0200735528  ASSOCIA corporation  2019-05-23 00:00:00   \n",
       "\n",
       "   buisness_year        doc_id posting_date  document_create_date  \\\n",
       "0         2020.0  1.930376e+09   2020-01-09              20200108   \n",
       "1         2019.0  1.929442e+09   2019-06-07              20190605   \n",
       "2         2019.0  2.960582e+09   2019-09-24              20190924   \n",
       "3         2019.0  1.928684e+09   2019-01-27              20190125   \n",
       "4         2019.0  1.929260e+09   2019-05-07              20190505   \n",
       "\n",
       "   document_create_date.1  due_in_date invoice_currency document type  \\\n",
       "0                20200109   20200124.0              USD            RV   \n",
       "1                20190607   20190905.0              USD            RV   \n",
       "2                20190924   20191004.0              CAD            RV   \n",
       "3                20190127   20190303.0              USD            RV   \n",
       "4                20190507   20190522.0              USD            RV   \n",
       "\n",
       "   posting_id  area_business  total_open_amount  baseline_create_date  \\\n",
       "0         1.0            NaN           13442.81            20200109.0   \n",
       "1         1.0            NaN            1395.64            20190607.0   \n",
       "2         1.0            NaN           23701.50            20190924.0   \n",
       "3         1.0            NaN           40128.00            20190127.0   \n",
       "4         1.0            NaN          123785.42            20190507.0   \n",
       "\n",
       "  cust_payment_terms    invoice_id  isOpen  \n",
       "0               NAH4  1.930376e+09       0  \n",
       "1               NAVR  1.929442e+09       0  \n",
       "2               CA10  2.960582e+09       0  \n",
       "3               NAG2  1.928684e+09       0  \n",
       "4               NAA8  1.929260e+09       0  "
      ]
     },
     "execution_count": 111,
     "metadata": {},
     "output_type": "execute_result"
    }
   ],
   "source": [
    "# Shows the first five column of the dataset.\n",
    "\n",
    "df.head()"
   ]
  },
  {
   "cell_type": "code",
   "execution_count": 112,
   "metadata": {
    "colab": {
     "base_uri": "https://localhost:8080/"
    },
    "id": "_jz2nuG5SGqN",
    "outputId": "45d5e2cd-1f93-45b0-e33e-474900ff3a17"
   },
   "outputs": [
    {
     "data": {
      "text/plain": [
       "(50000, 19)"
      ]
     },
     "execution_count": 112,
     "metadata": {},
     "output_type": "execute_result"
    }
   ],
   "source": [
    "# Identifies the number of rows and columns.\n",
    "\n",
    "df.shape"
   ]
  },
  {
   "cell_type": "code",
   "execution_count": 113,
   "metadata": {
    "colab": {
     "base_uri": "https://localhost:8080/"
    },
    "id": "U41yPXFXSJ-E",
    "outputId": "944d56b6-752e-49fa-c534-790e8a7a468e"
   },
   "outputs": [
    {
     "name": "stdout",
     "output_type": "stream",
     "text": [
      "<class 'pandas.core.frame.DataFrame'>\n",
      "RangeIndex: 50000 entries, 0 to 49999\n",
      "Data columns (total 19 columns):\n",
      " #   Column                  Non-Null Count  Dtype  \n",
      "---  ------                  --------------  -----  \n",
      " 0   business_code           50000 non-null  object \n",
      " 1   cust_number             50000 non-null  object \n",
      " 2   name_customer           50000 non-null  object \n",
      " 3   clear_date              45442 non-null  object \n",
      " 4   buisness_year           50000 non-null  float64\n",
      " 5   doc_id                  50000 non-null  float64\n",
      " 6   posting_date            50000 non-null  object \n",
      " 7   document_create_date    50000 non-null  int64  \n",
      " 8   document_create_date.1  50000 non-null  int64  \n",
      " 9   due_in_date             50000 non-null  float64\n",
      " 10  invoice_currency        50000 non-null  object \n",
      " 11  document type           50000 non-null  object \n",
      " 12  posting_id              50000 non-null  float64\n",
      " 13  area_business           0 non-null      float64\n",
      " 14  total_open_amount       50000 non-null  float64\n",
      " 15  baseline_create_date    50000 non-null  float64\n",
      " 16  cust_payment_terms      50000 non-null  object \n",
      " 17  invoice_id              49993 non-null  float64\n",
      " 18  isOpen                  50000 non-null  int64  \n",
      "dtypes: float64(8), int64(3), object(8)\n",
      "memory usage: 7.2+ MB\n"
     ]
    }
   ],
   "source": [
    "# Shows the information of the dataset.\n",
    "\n",
    "df.info()"
   ]
  },
  {
   "cell_type": "code",
   "execution_count": 114,
   "metadata": {
    "colab": {
     "base_uri": "https://localhost:8080/"
    },
    "id": "nXFRxP6jSN8R",
    "outputId": "670085c1-8a61-4b73-de48-ab87db6b1163"
   },
   "outputs": [
    {
     "data": {
      "text/plain": [
       "business_code                 5\n",
       "cust_number                1431\n",
       "name_customer              4260\n",
       "clear_date                  398\n",
       "buisness_year                 2\n",
       "doc_id                    50000\n",
       "posting_date                501\n",
       "document_create_date        506\n",
       "document_create_date.1      502\n",
       "due_in_date                 544\n",
       "invoice_currency              2\n",
       "document type                 2\n",
       "posting_id                    1\n",
       "area_business                 0\n",
       "total_open_amount         45307\n",
       "baseline_create_date        503\n",
       "cust_payment_terms           75\n",
       "invoice_id                49993\n",
       "isOpen                        2\n",
       "dtype: int64"
      ]
     },
     "execution_count": 114,
     "metadata": {},
     "output_type": "execute_result"
    }
   ],
   "source": [
    "# Shows the number of unique entries in each column.\n",
    "\n",
    "df.nunique()"
   ]
  },
  {
   "cell_type": "markdown",
   "metadata": {},
   "source": [
    "#  Converting dates to datetime datatype-\n",
    "> Getting dates into a friendly format and extracting features of dates into new variables can be useful preprocessing steps."
   ]
  },
  {
   "cell_type": "code",
   "execution_count": 115,
   "metadata": {
    "id": "RN1MoJPDSTc1"
   },
   "outputs": [],
   "source": [
    "# Observed that the date columns have differnt data types, so it is needed to convert them to datetime data type\n",
    "# using \"to_datetime function\".\n",
    "\n",
    "df['clear_date']             = pd.to_datetime(df['clear_date'])      \n",
    "df['posting_date']           = pd.to_datetime(df['posting_date'])      \n",
    "df['document_create_date']   = pd.to_datetime(df['document_create_date'],format='%Y%m%d') \n",
    "df['document_create_date.1'] = pd.to_datetime(df['document_create_date.1'],format='%Y%m%d')   \n",
    "df['due_in_date']            = pd.to_datetime(df['due_in_date'],format='%Y%m%d')              \n",
    "df['baseline_create_date']   = pd.to_datetime(df['baseline_create_date'],format='%Y%m%d')     \n",
    "\n",
    "# dt.year ->  returns the year of the date time.\n",
    "df[\"buisness_year\"]          =pd.to_datetime(df[\"buisness_year\"],format='%Y').dt.year         "
   ]
  },
  {
   "cell_type": "code",
   "execution_count": 116,
   "metadata": {
    "colab": {
     "base_uri": "https://localhost:8080/"
    },
    "id": "_eDejHGeSa-k",
    "outputId": "aed63e84-e511-43b5-9100-325e7b3a1013"
   },
   "outputs": [
    {
     "name": "stdout",
     "output_type": "stream",
     "text": [
      "<class 'pandas.core.frame.DataFrame'>\n",
      "RangeIndex: 50000 entries, 0 to 49999\n",
      "Data columns (total 19 columns):\n",
      " #   Column                  Non-Null Count  Dtype         \n",
      "---  ------                  --------------  -----         \n",
      " 0   business_code           50000 non-null  object        \n",
      " 1   cust_number             50000 non-null  object        \n",
      " 2   name_customer           50000 non-null  object        \n",
      " 3   clear_date              45442 non-null  datetime64[ns]\n",
      " 4   buisness_year           50000 non-null  int64         \n",
      " 5   doc_id                  50000 non-null  float64       \n",
      " 6   posting_date            50000 non-null  datetime64[ns]\n",
      " 7   document_create_date    50000 non-null  datetime64[ns]\n",
      " 8   document_create_date.1  50000 non-null  datetime64[ns]\n",
      " 9   due_in_date             50000 non-null  datetime64[ns]\n",
      " 10  invoice_currency        50000 non-null  object        \n",
      " 11  document type           50000 non-null  object        \n",
      " 12  posting_id              50000 non-null  float64       \n",
      " 13  area_business           0 non-null      float64       \n",
      " 14  total_open_amount       50000 non-null  float64       \n",
      " 15  baseline_create_date    50000 non-null  datetime64[ns]\n",
      " 16  cust_payment_terms      50000 non-null  object        \n",
      " 17  invoice_id              49993 non-null  float64       \n",
      " 18  isOpen                  50000 non-null  int64         \n",
      "dtypes: datetime64[ns](6), float64(5), int64(2), object(6)\n",
      "memory usage: 7.2+ MB\n"
     ]
    }
   ],
   "source": [
    "df.info()"
   ]
  },
  {
   "cell_type": "markdown",
   "metadata": {},
   "source": [
    "#### We can observe that the data types have been changed accordingly."
   ]
  },
  {
   "cell_type": "markdown",
   "metadata": {
    "id": "-m32KG535Gbb"
   },
   "source": [
    "# Finding & Removing Anomalies \n",
    "## Sanity Check\n",
    "> Test to quickly evaluate whether a claim or the result of a calculation can possibly be true."
   ]
  },
  {
   "cell_type": "code",
   "execution_count": 117,
   "metadata": {
    "colab": {
     "base_uri": "https://localhost:8080/"
    },
    "id": "Gaek1rJOSdZJ",
    "outputId": "f0470b39-97ca-4bc3-aeda-8bf7a718ee4d"
   },
   "outputs": [
    {
     "name": "stdout",
     "output_type": "stream",
     "text": [
      "Here we are Checking if the due_in_date is of before baseline_create_date\n",
      "Found:  0\n",
      "Checking if clear_date is of before document_created_date.1\n",
      "Found:  0\n",
      "Checking if total_open_amount<0\n",
      "Found:  0\n"
     ]
    }
   ],
   "source": [
    "# baseline_create_date -> date in which the invoice is created.\n",
    "# due_in_date -> date in which the customer is expected to clear an invoice.\n",
    "\n",
    "print(\"Here we are Checking if the due_in_date is of before baseline_create_date\") \n",
    "print(\"Found: \",df[df[\"baseline_create_date\"] > df.due_in_date][\"due_in_date\"].count()) \n",
    "\n",
    "# clear_date -> invoice is clear that day. \n",
    "# document_create_date -> invoice is created that day. \n",
    "\n",
    "print(\"Checking if clear_date is of before document_created_date.1\") \n",
    "print(\"Found: \",df[df[\"document_create_date.1\"] > df.clear_date][\"clear_date\"].count())\n",
    "\n",
    "# total_open_amount -> amount left to be paid which cannot be <0.\n",
    "\n",
    "print(\"Checking if total_open_amount<0\") \n",
    "print(\"Found: \",df[df.total_open_amount < 0 ][\"total_open_amount\"].count())"
   ]
  },
  {
   "cell_type": "markdown",
   "metadata": {},
   "source": [
    "## Creating a seperate dataframe for rows having null clear data or open invoices. We shall use it later for predicting the payment"
   ]
  },
  {
   "cell_type": "code",
   "execution_count": 118,
   "metadata": {
    "id": "j3LSaxt5Sh1u"
   },
   "outputs": [],
   "source": [
    "open_invoice_df = df[df[\"clear_date\"].isna()]    # returns a boolean object indicating if the values are NA.\n",
    "df = df[df[\"clear_date\"].notna()]                # returns a boolean object indicating if the values are not NA.\n",
    "df.reset_index(inplace=True)                     # resetting the index having null value."
   ]
  },
  {
   "cell_type": "code",
   "execution_count": 119,
   "metadata": {
    "colab": {
     "base_uri": "https://localhost:8080/",
     "height": 274
    },
    "id": "3UgoTPklSwVr",
    "outputId": "2ca3f368-bdbf-4267-8e68-5a7f0eb6f78a"
   },
   "outputs": [
    {
     "data": {
      "text/html": [
       "<div>\n",
       "<style scoped>\n",
       "    .dataframe tbody tr th:only-of-type {\n",
       "        vertical-align: middle;\n",
       "    }\n",
       "\n",
       "    .dataframe tbody tr th {\n",
       "        vertical-align: top;\n",
       "    }\n",
       "\n",
       "    .dataframe thead th {\n",
       "        text-align: right;\n",
       "    }\n",
       "</style>\n",
       "<table border=\"1\" class=\"dataframe\">\n",
       "  <thead>\n",
       "    <tr style=\"text-align: right;\">\n",
       "      <th></th>\n",
       "      <th>business_code</th>\n",
       "      <th>cust_number</th>\n",
       "      <th>name_customer</th>\n",
       "      <th>clear_date</th>\n",
       "      <th>buisness_year</th>\n",
       "      <th>doc_id</th>\n",
       "      <th>posting_date</th>\n",
       "      <th>document_create_date</th>\n",
       "      <th>document_create_date.1</th>\n",
       "      <th>due_in_date</th>\n",
       "      <th>invoice_currency</th>\n",
       "      <th>document type</th>\n",
       "      <th>posting_id</th>\n",
       "      <th>area_business</th>\n",
       "      <th>total_open_amount</th>\n",
       "      <th>baseline_create_date</th>\n",
       "      <th>cust_payment_terms</th>\n",
       "      <th>invoice_id</th>\n",
       "      <th>isOpen</th>\n",
       "    </tr>\n",
       "  </thead>\n",
       "  <tbody>\n",
       "    <tr>\n",
       "      <th>45442</th>\n",
       "      <td>U001</td>\n",
       "      <td>0200956366</td>\n",
       "      <td>RICH trust</td>\n",
       "      <td>NaT</td>\n",
       "      <td>2020</td>\n",
       "      <td>1.930757e+09</td>\n",
       "      <td>2020-04-08</td>\n",
       "      <td>2020-04-06</td>\n",
       "      <td>2020-04-08</td>\n",
       "      <td>2020-04-23</td>\n",
       "      <td>USD</td>\n",
       "      <td>RV</td>\n",
       "      <td>1.0</td>\n",
       "      <td>NaN</td>\n",
       "      <td>40494.96</td>\n",
       "      <td>2020-04-08</td>\n",
       "      <td>NAA8</td>\n",
       "      <td>1.930757e+09</td>\n",
       "      <td>1</td>\n",
       "    </tr>\n",
       "    <tr>\n",
       "      <th>45443</th>\n",
       "      <td>U001</td>\n",
       "      <td>0200769623</td>\n",
       "      <td>WAL-MAR us</td>\n",
       "      <td>NaT</td>\n",
       "      <td>2020</td>\n",
       "      <td>1.930567e+09</td>\n",
       "      <td>2020-02-27</td>\n",
       "      <td>2020-02-25</td>\n",
       "      <td>2020-02-27</td>\n",
       "      <td>2020-03-13</td>\n",
       "      <td>USD</td>\n",
       "      <td>RV</td>\n",
       "      <td>1.0</td>\n",
       "      <td>NaN</td>\n",
       "      <td>16892.00</td>\n",
       "      <td>2020-02-27</td>\n",
       "      <td>NAH4</td>\n",
       "      <td>1.930567e+09</td>\n",
       "      <td>1</td>\n",
       "    </tr>\n",
       "    <tr>\n",
       "      <th>45444</th>\n",
       "      <td>U001</td>\n",
       "      <td>0100031704</td>\n",
       "      <td>DELHAIZE co</td>\n",
       "      <td>NaT</td>\n",
       "      <td>2020</td>\n",
       "      <td>1.930740e+09</td>\n",
       "      <td>2020-04-05</td>\n",
       "      <td>2020-04-03</td>\n",
       "      <td>2020-04-05</td>\n",
       "      <td>2020-04-20</td>\n",
       "      <td>USD</td>\n",
       "      <td>RV</td>\n",
       "      <td>1.0</td>\n",
       "      <td>NaN</td>\n",
       "      <td>15150.77</td>\n",
       "      <td>2020-04-05</td>\n",
       "      <td>NAA8</td>\n",
       "      <td>1.930740e+09</td>\n",
       "      <td>1</td>\n",
       "    </tr>\n",
       "    <tr>\n",
       "      <th>45445</th>\n",
       "      <td>U001</td>\n",
       "      <td>0200416837</td>\n",
       "      <td>DEC corporation</td>\n",
       "      <td>NaT</td>\n",
       "      <td>2020</td>\n",
       "      <td>1.930672e+09</td>\n",
       "      <td>2020-03-20</td>\n",
       "      <td>2020-03-20</td>\n",
       "      <td>2020-03-20</td>\n",
       "      <td>2020-04-08</td>\n",
       "      <td>USD</td>\n",
       "      <td>RV</td>\n",
       "      <td>1.0</td>\n",
       "      <td>NaN</td>\n",
       "      <td>66.48</td>\n",
       "      <td>2020-03-16</td>\n",
       "      <td>NAM4</td>\n",
       "      <td>1.930672e+09</td>\n",
       "      <td>1</td>\n",
       "    </tr>\n",
       "    <tr>\n",
       "      <th>45446</th>\n",
       "      <td>U001</td>\n",
       "      <td>0100044010</td>\n",
       "      <td>LAND foundation</td>\n",
       "      <td>NaT</td>\n",
       "      <td>2020</td>\n",
       "      <td>1.930794e+09</td>\n",
       "      <td>2020-04-16</td>\n",
       "      <td>2020-04-16</td>\n",
       "      <td>2020-04-16</td>\n",
       "      <td>2020-05-18</td>\n",
       "      <td>USD</td>\n",
       "      <td>RV</td>\n",
       "      <td>1.0</td>\n",
       "      <td>NaN</td>\n",
       "      <td>46238.85</td>\n",
       "      <td>2020-04-16</td>\n",
       "      <td>NA32</td>\n",
       "      <td>1.930794e+09</td>\n",
       "      <td>1</td>\n",
       "    </tr>\n",
       "  </tbody>\n",
       "</table>\n",
       "</div>"
      ],
      "text/plain": [
       "      business_code cust_number    name_customer clear_date  buisness_year  \\\n",
       "45442          U001  0200956366       RICH trust        NaT           2020   \n",
       "45443          U001  0200769623       WAL-MAR us        NaT           2020   \n",
       "45444          U001  0100031704      DELHAIZE co        NaT           2020   \n",
       "45445          U001  0200416837  DEC corporation        NaT           2020   \n",
       "45446          U001  0100044010  LAND foundation        NaT           2020   \n",
       "\n",
       "             doc_id posting_date document_create_date document_create_date.1  \\\n",
       "45442  1.930757e+09   2020-04-08           2020-04-06             2020-04-08   \n",
       "45443  1.930567e+09   2020-02-27           2020-02-25             2020-02-27   \n",
       "45444  1.930740e+09   2020-04-05           2020-04-03             2020-04-05   \n",
       "45445  1.930672e+09   2020-03-20           2020-03-20             2020-03-20   \n",
       "45446  1.930794e+09   2020-04-16           2020-04-16             2020-04-16   \n",
       "\n",
       "      due_in_date invoice_currency document type  posting_id  area_business  \\\n",
       "45442  2020-04-23              USD            RV         1.0            NaN   \n",
       "45443  2020-03-13              USD            RV         1.0            NaN   \n",
       "45444  2020-04-20              USD            RV         1.0            NaN   \n",
       "45445  2020-04-08              USD            RV         1.0            NaN   \n",
       "45446  2020-05-18              USD            RV         1.0            NaN   \n",
       "\n",
       "       total_open_amount baseline_create_date cust_payment_terms  \\\n",
       "45442           40494.96           2020-04-08               NAA8   \n",
       "45443           16892.00           2020-02-27               NAH4   \n",
       "45444           15150.77           2020-04-05               NAA8   \n",
       "45445              66.48           2020-03-16               NAM4   \n",
       "45446           46238.85           2020-04-16               NA32   \n",
       "\n",
       "         invoice_id  isOpen  \n",
       "45442  1.930757e+09       1  \n",
       "45443  1.930567e+09       1  \n",
       "45444  1.930740e+09       1  \n",
       "45445  1.930672e+09       1  \n",
       "45446  1.930794e+09       1  "
      ]
     },
     "execution_count": 119,
     "metadata": {},
     "output_type": "execute_result"
    }
   ],
   "source": [
    "open_invoice_df.head()"
   ]
  },
  {
   "cell_type": "markdown",
   "metadata": {
    "id": "gtwwf2J05Wkp"
   },
   "source": [
    "# Creating the target column"
   ]
  },
  {
   "cell_type": "code",
   "execution_count": 120,
   "metadata": {
    "id": "KS6DoSXeSz5w"
   },
   "outputs": [],
   "source": [
    "# dt.days ->  returns the number of days of the date time.\n",
    "# Creating a new column to keep the number of delays.\n",
    "\n",
    "df[\"delay\"] = (df[\"clear_date\"] - df[\"due_in_date\"]).dt.days"
   ]
  },
  {
   "cell_type": "code",
   "execution_count": 121,
   "metadata": {
    "id": "iGFaNtFSS35A"
   },
   "outputs": [],
   "source": [
    "# We are sorting the dataframe acording to the document_create_date.1.\n",
    "\n",
    "df = df.sort_values(by=\"document_create_date.1\",ignore_index=True)"
   ]
  },
  {
   "cell_type": "code",
   "execution_count": 122,
   "metadata": {
    "colab": {
     "base_uri": "https://localhost:8080/"
    },
    "id": "jgwHseI_S7-N",
    "outputId": "ae135b1a-36d2-4c17-cb96-40af5e5f11b3"
   },
   "outputs": [
    {
     "name": "stdout",
     "output_type": "stream",
     "text": [
      "<class 'pandas.core.frame.DataFrame'>\n",
      "RangeIndex: 45442 entries, 0 to 45441\n",
      "Data columns (total 21 columns):\n",
      " #   Column                  Non-Null Count  Dtype         \n",
      "---  ------                  --------------  -----         \n",
      " 0   index                   45442 non-null  int64         \n",
      " 1   business_code           45442 non-null  object        \n",
      " 2   cust_number             45442 non-null  object        \n",
      " 3   name_customer           45442 non-null  object        \n",
      " 4   clear_date              45442 non-null  datetime64[ns]\n",
      " 5   buisness_year           45442 non-null  int64         \n",
      " 6   doc_id                  45442 non-null  float64       \n",
      " 7   posting_date            45442 non-null  datetime64[ns]\n",
      " 8   document_create_date    45442 non-null  datetime64[ns]\n",
      " 9   document_create_date.1  45442 non-null  datetime64[ns]\n",
      " 10  due_in_date             45442 non-null  datetime64[ns]\n",
      " 11  invoice_currency        45442 non-null  object        \n",
      " 12  document type           45442 non-null  object        \n",
      " 13  posting_id              45442 non-null  float64       \n",
      " 14  area_business           0 non-null      float64       \n",
      " 15  total_open_amount       45442 non-null  float64       \n",
      " 16  baseline_create_date    45442 non-null  datetime64[ns]\n",
      " 17  cust_payment_terms      45442 non-null  object        \n",
      " 18  invoice_id              45435 non-null  float64       \n",
      " 19  isOpen                  45442 non-null  int64         \n",
      " 20  delay                   45442 non-null  int64         \n",
      "dtypes: datetime64[ns](6), float64(5), int64(4), object(6)\n",
      "memory usage: 7.3+ MB\n"
     ]
    }
   ],
   "source": [
    "df.info()"
   ]
  },
  {
   "cell_type": "code",
   "execution_count": 123,
   "metadata": {
    "colab": {
     "base_uri": "https://localhost:8080/"
    },
    "id": "_-PpDAdOS_ET",
    "outputId": "d1a87a1e-5a1d-41ce-e715-bd472fb51832"
   },
   "outputs": [
    {
     "data": {
      "text/plain": [
       "index                                   38596\n",
       "business_code                            U001\n",
       "cust_number                        0200769623\n",
       "name_customer                     WAL-MAR llc\n",
       "clear_date                2019-10-18 00:00:00\n",
       "buisness_year                            2019\n",
       "doc_id                            1.92998e+09\n",
       "posting_date              2019-10-08 00:00:00\n",
       "document_create_date      2019-10-07 00:00:00\n",
       "document_create_date.1    2019-10-08 00:00:00\n",
       "due_in_date               2019-10-23 00:00:00\n",
       "invoice_currency                          USD\n",
       "document type                              RV\n",
       "posting_id                                  1\n",
       "area_business                             NaN\n",
       "total_open_amount                     1549.78\n",
       "baseline_create_date      2019-10-08 00:00:00\n",
       "cust_payment_terms                       NAH4\n",
       "invoice_id                        1.92998e+09\n",
       "isOpen                                      0\n",
       "delay                                      -5\n",
       "Name: 31809, dtype: object"
      ]
     },
     "execution_count": 123,
     "metadata": {},
     "output_type": "execute_result"
    }
   ],
   "source": [
    "# There are 45442 rows. We shall make the train set to be 70% of this ->  0.7 * 45442\n",
    "# iloc is for selecting rows and columns by integer position.\n",
    "\n",
    "df.iloc[31809]"
   ]
  },
  {
   "cell_type": "markdown",
   "metadata": {
    "id": "L42bQTpZ5xrQ"
   },
   "source": [
    "# Splitting the dataset according to Date"
   ]
  },
  {
   "cell_type": "code",
   "execution_count": 124,
   "metadata": {
    "colab": {
     "base_uri": "https://localhost:8080/"
    },
    "id": "6J2jOz8kTLMz",
    "outputId": "560ae2d4-1c96-4f5d-e814-0c6defea0ecf"
   },
   "outputs": [
    {
     "name": "stdout",
     "output_type": "stream",
     "text": [
      "<class 'pandas.core.frame.DataFrame'>\n",
      "RangeIndex: 14356 entries, 0 to 14355\n",
      "Data columns (total 21 columns):\n",
      " #   Column                  Non-Null Count  Dtype         \n",
      "---  ------                  --------------  -----         \n",
      " 0   index                   14356 non-null  int64         \n",
      " 1   business_code           14356 non-null  object        \n",
      " 2   cust_number             14356 non-null  object        \n",
      " 3   name_customer           14356 non-null  object        \n",
      " 4   clear_date              14356 non-null  datetime64[ns]\n",
      " 5   buisness_year           14356 non-null  int64         \n",
      " 6   doc_id                  14356 non-null  float64       \n",
      " 7   posting_date            14356 non-null  datetime64[ns]\n",
      " 8   document_create_date    14356 non-null  datetime64[ns]\n",
      " 9   document_create_date.1  14356 non-null  datetime64[ns]\n",
      " 10  due_in_date             14356 non-null  datetime64[ns]\n",
      " 11  invoice_currency        14356 non-null  object        \n",
      " 12  document type           14356 non-null  object        \n",
      " 13  posting_id              14356 non-null  float64       \n",
      " 14  area_business           0 non-null      float64       \n",
      " 15  total_open_amount       14356 non-null  float64       \n",
      " 16  baseline_create_date    14356 non-null  datetime64[ns]\n",
      " 17  cust_payment_terms      14356 non-null  object        \n",
      " 18  invoice_id              14356 non-null  float64       \n",
      " 19  isOpen                  14356 non-null  int64         \n",
      " 20  delay                   14356 non-null  int64         \n",
      "dtypes: datetime64[ns](6), float64(5), int64(4), object(6)\n",
      "memory usage: 2.3+ MB\n"
     ]
    }
   ],
   "source": [
    "# document_create_date -> 2019-10-07 (for 70%)\n",
    "# For training set we should take \"document_create_date\" < 2019-10-01\n",
    "\n",
    "train=df[df['document_create_date'] < '2019-10-01'].copy()\n",
    "test=df[df['document_create_date'] >= '2019-10-01'].reset_index(drop=True)\n",
    "test.info()"
   ]
  },
  {
   "cell_type": "code",
   "execution_count": 125,
   "metadata": {
    "colab": {
     "base_uri": "https://localhost:8080/"
    },
    "id": "_7EO0EAwTVYG",
    "outputId": "beecd587-a55e-4b42-d3ff-13da3502fb61"
   },
   "outputs": [
    {
     "data": {
      "text/plain": [
       "(31086, 21)"
      ]
     },
     "execution_count": 125,
     "metadata": {},
     "output_type": "execute_result"
    }
   ],
   "source": [
    "# It shows the number of rows and columns in the train part.\n",
    "train.shape"
   ]
  },
  {
   "cell_type": "code",
   "execution_count": 126,
   "metadata": {
    "colab": {
     "base_uri": "https://localhost:8080/"
    },
    "id": "UbETGd9YTZFe",
    "outputId": "edecbf1a-f398-4cf5-c7c6-c7fff800ec52"
   },
   "outputs": [
    {
     "data": {
      "text/plain": [
       "(14356, 21)"
      ]
     },
     "execution_count": 126,
     "metadata": {},
     "output_type": "execute_result"
    }
   ],
   "source": [
    "# It shows the number of rows and columns in the test part.\n",
    "test.shape"
   ]
  },
  {
   "cell_type": "code",
   "execution_count": 127,
   "metadata": {
    "colab": {
     "base_uri": "https://localhost:8080/"
    },
    "id": "3rg5G1RBTdEz",
    "outputId": "f03521b4-efd8-4b21-c5a5-87fe2e3d7c28"
   },
   "outputs": [
    {
     "name": "stdout",
     "output_type": "stream",
     "text": [
      "<class 'pandas.core.frame.DataFrame'>\n",
      "Int64Index: 31086 entries, 0 to 32239\n",
      "Data columns (total 21 columns):\n",
      " #   Column                  Non-Null Count  Dtype         \n",
      "---  ------                  --------------  -----         \n",
      " 0   index                   31086 non-null  int64         \n",
      " 1   business_code           31086 non-null  object        \n",
      " 2   cust_number             31086 non-null  object        \n",
      " 3   name_customer           31086 non-null  object        \n",
      " 4   clear_date              31086 non-null  datetime64[ns]\n",
      " 5   buisness_year           31086 non-null  int64         \n",
      " 6   doc_id                  31086 non-null  float64       \n",
      " 7   posting_date            31086 non-null  datetime64[ns]\n",
      " 8   document_create_date    31086 non-null  datetime64[ns]\n",
      " 9   document_create_date.1  31086 non-null  datetime64[ns]\n",
      " 10  due_in_date             31086 non-null  datetime64[ns]\n",
      " 11  invoice_currency        31086 non-null  object        \n",
      " 12  document type           31086 non-null  object        \n",
      " 13  posting_id              31086 non-null  float64       \n",
      " 14  area_business           0 non-null      float64       \n",
      " 15  total_open_amount       31086 non-null  float64       \n",
      " 16  baseline_create_date    31086 non-null  datetime64[ns]\n",
      " 17  cust_payment_terms      31086 non-null  object        \n",
      " 18  invoice_id              31079 non-null  float64       \n",
      " 19  isOpen                  31086 non-null  int64         \n",
      " 20  delay                   31086 non-null  int64         \n",
      "dtypes: datetime64[ns](6), float64(5), int64(4), object(6)\n",
      "memory usage: 5.2+ MB\n"
     ]
    }
   ],
   "source": [
    "# Information regarding the train set.\n",
    "\n",
    "train.info()"
   ]
  },
  {
   "cell_type": "markdown",
   "metadata": {},
   "source": [
    "# EDA - Exploratory Data Analysis \n",
    "> To analyze and investigate data sets and summarize their main characteristics.\n",
    "\n",
    "> Meant to uncover the underlying structure of a data set.\n",
    "\n",
    "> It exposes trends, patterns, and relationships that are not readily apparent.\n",
    "\n",
    "## Removing Constant and Quasi constant data"
   ]
  },
  {
   "cell_type": "code",
   "execution_count": 128,
   "metadata": {
    "colab": {
     "base_uri": "https://localhost:8080/"
    },
    "id": "4QyoV5TATiMu",
    "outputId": "a729b46c-8e99-489f-de07-4ab7247c0548"
   },
   "outputs": [
    {
     "data": {
      "text/plain": [
       "index                     31086\n",
       "business_code                 5\n",
       "cust_number                1284\n",
       "name_customer              3532\n",
       "clear_date                  288\n",
       "buisness_year                 1\n",
       "doc_id                    31086\n",
       "posting_date                282\n",
       "document_create_date        278\n",
       "document_create_date.1      283\n",
       "due_in_date                 342\n",
       "invoice_currency              2\n",
       "document type                 2\n",
       "posting_id                    1\n",
       "area_business                 0\n",
       "total_open_amount         28449\n",
       "baseline_create_date        289\n",
       "cust_payment_terms           68\n",
       "invoice_id                31079\n",
       "isOpen                        1\n",
       "delay                       180\n",
       "dtype: int64"
      ]
     },
     "execution_count": 128,
     "metadata": {},
     "output_type": "execute_result"
    }
   ],
   "source": [
    "# Identifies the number of unique entries in each column in the train set.\n",
    "\n",
    "train.nunique()"
   ]
  },
  {
   "cell_type": "code",
   "execution_count": 129,
   "metadata": {
    "colab": {
     "base_uri": "https://localhost:8080/"
    },
    "id": "9C3Be76QTnwe",
    "outputId": "6f3cabd7-be2a-4263-9c7a-557758b4677f"
   },
   "outputs": [
    {
     "data": {
      "text/plain": [
       "0"
      ]
     },
     "execution_count": 129,
     "metadata": {},
     "output_type": "execute_result"
    }
   ],
   "source": [
    "# Finding the duplicates in the trainset.\n",
    "\n",
    "train.duplicated().sum()"
   ]
  },
  {
   "cell_type": "markdown",
   "metadata": {},
   "source": [
    "It is concluded that there is no duplicates found."
   ]
  },
  {
   "cell_type": "code",
   "execution_count": 130,
   "metadata": {
    "colab": {
     "base_uri": "https://localhost:8080/",
     "height": 314
    },
    "id": "2RGQg08sTv3z",
    "outputId": "1cdcab69-4781-4ba7-c250-df1404fd1622"
   },
   "outputs": [
    {
     "data": {
      "text/html": [
       "<div>\n",
       "<style scoped>\n",
       "    .dataframe tbody tr th:only-of-type {\n",
       "        vertical-align: middle;\n",
       "    }\n",
       "\n",
       "    .dataframe tbody tr th {\n",
       "        vertical-align: top;\n",
       "    }\n",
       "\n",
       "    .dataframe thead th {\n",
       "        text-align: right;\n",
       "    }\n",
       "</style>\n",
       "<table border=\"1\" class=\"dataframe\">\n",
       "  <thead>\n",
       "    <tr style=\"text-align: right;\">\n",
       "      <th></th>\n",
       "      <th>index</th>\n",
       "      <th>buisness_year</th>\n",
       "      <th>doc_id</th>\n",
       "      <th>posting_id</th>\n",
       "      <th>area_business</th>\n",
       "      <th>total_open_amount</th>\n",
       "      <th>invoice_id</th>\n",
       "      <th>isOpen</th>\n",
       "      <th>delay</th>\n",
       "    </tr>\n",
       "  </thead>\n",
       "  <tbody>\n",
       "    <tr>\n",
       "      <th>count</th>\n",
       "      <td>31086.000000</td>\n",
       "      <td>31086.0</td>\n",
       "      <td>3.108600e+04</td>\n",
       "      <td>31086.0</td>\n",
       "      <td>0.0</td>\n",
       "      <td>31086.000000</td>\n",
       "      <td>3.107900e+04</td>\n",
       "      <td>31086.0</td>\n",
       "      <td>31086.000000</td>\n",
       "    </tr>\n",
       "    <tr>\n",
       "      <th>mean</th>\n",
       "      <td>22763.428360</td>\n",
       "      <td>2019.0</td>\n",
       "      <td>2.012938e+09</td>\n",
       "      <td>1.0</td>\n",
       "      <td>NaN</td>\n",
       "      <td>31855.013460</td>\n",
       "      <td>2.011251e+09</td>\n",
       "      <td>0.0</td>\n",
       "      <td>1.163643</td>\n",
       "    </tr>\n",
       "    <tr>\n",
       "      <th>std</th>\n",
       "      <td>13102.739952</td>\n",
       "      <td>0.0</td>\n",
       "      <td>2.988683e+08</td>\n",
       "      <td>0.0</td>\n",
       "      <td>NaN</td>\n",
       "      <td>39620.403268</td>\n",
       "      <td>2.769719e+08</td>\n",
       "      <td>0.0</td>\n",
       "      <td>11.445376</td>\n",
       "    </tr>\n",
       "    <tr>\n",
       "      <th>min</th>\n",
       "      <td>1.000000</td>\n",
       "      <td>2019.0</td>\n",
       "      <td>1.928502e+09</td>\n",
       "      <td>1.0</td>\n",
       "      <td>NaN</td>\n",
       "      <td>0.860000</td>\n",
       "      <td>1.928502e+09</td>\n",
       "      <td>0.0</td>\n",
       "      <td>-85.000000</td>\n",
       "    </tr>\n",
       "    <tr>\n",
       "      <th>25%</th>\n",
       "      <td>11459.250000</td>\n",
       "      <td>2019.0</td>\n",
       "      <td>1.928984e+09</td>\n",
       "      <td>1.0</td>\n",
       "      <td>NaN</td>\n",
       "      <td>4624.417500</td>\n",
       "      <td>1.928983e+09</td>\n",
       "      <td>0.0</td>\n",
       "      <td>-3.000000</td>\n",
       "    </tr>\n",
       "    <tr>\n",
       "      <th>50%</th>\n",
       "      <td>22769.500000</td>\n",
       "      <td>2019.0</td>\n",
       "      <td>1.929402e+09</td>\n",
       "      <td>1.0</td>\n",
       "      <td>NaN</td>\n",
       "      <td>17159.755000</td>\n",
       "      <td>1.929402e+09</td>\n",
       "      <td>0.0</td>\n",
       "      <td>0.000000</td>\n",
       "    </tr>\n",
       "    <tr>\n",
       "      <th>75%</th>\n",
       "      <td>34120.750000</td>\n",
       "      <td>2019.0</td>\n",
       "      <td>1.929750e+09</td>\n",
       "      <td>1.0</td>\n",
       "      <td>NaN</td>\n",
       "      <td>45979.360000</td>\n",
       "      <td>1.929750e+09</td>\n",
       "      <td>0.0</td>\n",
       "      <td>2.000000</td>\n",
       "    </tr>\n",
       "    <tr>\n",
       "      <th>max</th>\n",
       "      <td>45441.000000</td>\n",
       "      <td>2019.0</td>\n",
       "      <td>9.500000e+09</td>\n",
       "      <td>1.0</td>\n",
       "      <td>NaN</td>\n",
       "      <td>723760.430000</td>\n",
       "      <td>2.960583e+09</td>\n",
       "      <td>0.0</td>\n",
       "      <td>268.000000</td>\n",
       "    </tr>\n",
       "  </tbody>\n",
       "</table>\n",
       "</div>"
      ],
      "text/plain": [
       "              index  buisness_year        doc_id  posting_id  area_business  \\\n",
       "count  31086.000000        31086.0  3.108600e+04     31086.0            0.0   \n",
       "mean   22763.428360         2019.0  2.012938e+09         1.0            NaN   \n",
       "std    13102.739952            0.0  2.988683e+08         0.0            NaN   \n",
       "min        1.000000         2019.0  1.928502e+09         1.0            NaN   \n",
       "25%    11459.250000         2019.0  1.928984e+09         1.0            NaN   \n",
       "50%    22769.500000         2019.0  1.929402e+09         1.0            NaN   \n",
       "75%    34120.750000         2019.0  1.929750e+09         1.0            NaN   \n",
       "max    45441.000000         2019.0  9.500000e+09         1.0            NaN   \n",
       "\n",
       "       total_open_amount    invoice_id   isOpen         delay  \n",
       "count       31086.000000  3.107900e+04  31086.0  31086.000000  \n",
       "mean        31855.013460  2.011251e+09      0.0      1.163643  \n",
       "std         39620.403268  2.769719e+08      0.0     11.445376  \n",
       "min             0.860000  1.928502e+09      0.0    -85.000000  \n",
       "25%          4624.417500  1.928983e+09      0.0     -3.000000  \n",
       "50%         17159.755000  1.929402e+09      0.0      0.000000  \n",
       "75%         45979.360000  1.929750e+09      0.0      2.000000  \n",
       "max        723760.430000  2.960583e+09      0.0    268.000000  "
      ]
     },
     "execution_count": 130,
     "metadata": {},
     "output_type": "execute_result"
    }
   ],
   "source": [
    "# Describes the trainset.\n",
    "\n",
    "train.describe()"
   ]
  },
  {
   "cell_type": "code",
   "execution_count": 131,
   "metadata": {},
   "outputs": [],
   "source": [
    "# Dropping this constant and quasi constant columns because it is of no use in dataset as it does not add any new feature.\n",
    "# A column is constant if nunique() == 1\n",
    "\n",
    "train.drop([\"buisness_year\",\"isOpen\",\"posting_id\",\"area_business\"],axis=1,inplace=True)"
   ]
  },
  {
   "cell_type": "markdown",
   "metadata": {
    "id": "NTAInChL6DXS"
   },
   "source": [
    "# Checking correlation among numeric colmns\n",
    ">Correlation is a statistic that measures the degree to which two variables move in relation to each other"
   ]
  },
  {
   "cell_type": "code",
   "execution_count": 132,
   "metadata": {
    "colab": {
     "base_uri": "https://localhost:8080/",
     "height": 445
    },
    "id": "F7tDFXnjT8I6",
    "outputId": "f23c193e-427c-4d60-e0d3-0e72757c1e71"
   },
   "outputs": [
    {
     "name": "stdout",
     "output_type": "stream",
     "text": [
      "['index', 'doc_id', 'total_open_amount', 'invoice_id', 'delay']\n"
     ]
    },
    {
     "data": {
      "text/plain": [
       "<AxesSubplot:>"
      ]
     },
     "execution_count": 132,
     "metadata": {},
     "output_type": "execute_result"
    },
    {
     "data": {
      "image/png": "[encoded data removed]",
      "text/plain": [
       "<Figure size 360x360 with 2 Axes>"
      ]
     },
     "metadata": {
      "needs_background": "light"
     },
     "output_type": "display_data"
    }
   ],
   "source": [
    "numerical_columns=train.select_dtypes(include=np.number).columns.tolist()\n",
    "print(numerical_columns)\n",
    "correlation=train.corr()\n",
    "plt.subplots(figsize=(5,5))        \n",
    "sns.heatmap(correlation,annot=True) #annot — when set to True, the correlation values become visible on the colored cells.\n"
   ]
  },
  {
   "cell_type": "markdown",
   "metadata": {},
   "source": [
    ">It is clearly visible that \"doc_id\" and \"invoice_id\" are perfectly correlated.\n",
    "\n",
    ">Correlated columns convey similar information to the learning algorithm and therefore, should be removed."
   ]
  },
  {
   "cell_type": "code",
   "execution_count": 133,
   "metadata": {
    "colab": {
     "base_uri": "https://localhost:8080/",
     "height": 351
    },
    "id": "6HKnEX03T_qc",
    "outputId": "46ee62a4-2995-4ef3-c5cf-ddb9e69d09c4"
   },
   "outputs": [
    {
     "data": {
      "image/png": "[encoded data removed]",
      "text/plain": [
       "<Figure size 432x288 with 1 Axes>"
      ]
     },
     "metadata": {
      "needs_background": "light"
     },
     "output_type": "display_data"
    }
   ],
   "source": [
    "sns.distplot(train['delay'])\n",
    "warnings.filterwarnings('ignore')\n",
    "\n",
    "# Plotting the delay ."
   ]
  },
  {
   "cell_type": "code",
   "execution_count": 134,
   "metadata": {
    "colab": {
     "base_uri": "https://localhost:8080/"
    },
    "id": "sTN4d4qJUGY2",
    "outputId": "4e37fc70-a3dd-4e99-e966-40f7273e70d3"
   },
   "outputs": [
    {
     "data": {
      "text/plain": [
       "index               -0.001491\n",
       "doc_id               0.169868\n",
       "total_open_amount   -0.004712\n",
       "invoice_id           0.133974\n",
       "delay                1.000000\n",
       "Name: delay, dtype: float64"
      ]
     },
     "execution_count": 134,
     "metadata": {},
     "output_type": "execute_result"
    }
   ],
   "source": [
    "# Checking the correlation of delay with other columns.\n",
    "\n",
    "train.corr().loc['delay',:]"
   ]
  },
  {
   "cell_type": "markdown",
   "metadata": {},
   "source": [
    "> Negative correlation is a relationship between two variables in which one variable increases as the other decreases, and vice versa"
   ]
  },
  {
   "cell_type": "code",
   "execution_count": 135,
   "metadata": {
    "id": "tcnk3FHmUKuP"
   },
   "outputs": [],
   "source": [
    "# As mentioned above, dropping these columns.\n",
    "\n",
    "train.drop([\"doc_id\",\"invoice_id\"],axis=1,inplace=True)"
   ]
  },
  {
   "cell_type": "code",
   "execution_count": 136,
   "metadata": {
    "colab": {
     "base_uri": "https://localhost:8080/"
    },
    "id": "ZbeLpE55UOTN",
    "outputId": "446a4277-3525-43ea-f283-94304fd0c780"
   },
   "outputs": [
    {
     "name": "stdout",
     "output_type": "stream",
     "text": [
      "<class 'pandas.core.frame.DataFrame'>\n",
      "Int64Index: 31086 entries, 0 to 32239\n",
      "Data columns (total 15 columns):\n",
      " #   Column                  Non-Null Count  Dtype         \n",
      "---  ------                  --------------  -----         \n",
      " 0   index                   31086 non-null  int64         \n",
      " 1   business_code           31086 non-null  object        \n",
      " 2   cust_number             31086 non-null  object        \n",
      " 3   name_customer           31086 non-null  object        \n",
      " 4   clear_date              31086 non-null  datetime64[ns]\n",
      " 5   posting_date            31086 non-null  datetime64[ns]\n",
      " 6   document_create_date    31086 non-null  datetime64[ns]\n",
      " 7   document_create_date.1  31086 non-null  datetime64[ns]\n",
      " 8   due_in_date             31086 non-null  datetime64[ns]\n",
      " 9   invoice_currency        31086 non-null  object        \n",
      " 10  document type           31086 non-null  object        \n",
      " 11  total_open_amount       31086 non-null  float64       \n",
      " 12  baseline_create_date    31086 non-null  datetime64[ns]\n",
      " 13  cust_payment_terms      31086 non-null  object        \n",
      " 14  delay                   31086 non-null  int64         \n",
      "dtypes: datetime64[ns](6), float64(1), int64(2), object(6)\n",
      "memory usage: 3.8+ MB\n"
     ]
    }
   ],
   "source": [
    "train.info()"
   ]
  },
  {
   "cell_type": "code",
   "execution_count": 137,
   "metadata": {
    "colab": {
     "base_uri": "https://localhost:8080/",
     "height": 517
    },
    "id": "2M6mb1ldURPv",
    "outputId": "54b3a02e-8918-4572-f85a-2fae6009310f"
   },
   "outputs": [
    {
     "data": {
      "text/plain": [
       "Text(0.5, 1.0, 'Count')"
      ]
     },
     "execution_count": 137,
     "metadata": {},
     "output_type": "execute_result"
    },
    {
     "data": {
      "image/png": "[encoded data removed]",
      "text/plain": [
       "<Figure size 1440x360 with 1 Axes>"
      ]
     },
     "metadata": {
      "needs_background": "light"
     },
     "output_type": "display_data"
    },
    {
     "data": {
      "image/png": "[encoded data removed]",
      "text/plain": [
       "<Figure size 1440x360 with 1 Axes>"
      ]
     },
     "metadata": {
      "needs_background": "light"
     },
     "output_type": "display_data"
    }
   ],
   "source": [
    "payment_terms = train.groupby(\"cust_payment_terms\")[\"delay\"].agg([\"mean\",\"count\"]).reset_index(drop=False)\n",
    "fig, ax = plt.subplots(figsize=(20,5))\n",
    "sns.barplot(x='cust_payment_terms',y='mean',data=payment_terms).set_title(\"Mean Delay\")\n",
    "fig, ax = plt.subplots(figsize=(20,5))\n",
    "sns.barplot(x='cust_payment_terms',y='count',data=payment_terms).set_title(\"Count\")"
   ]
  },
  {
   "cell_type": "markdown",
   "metadata": {},
   "source": [
    "It is observed that the mean delay varies with the cust_payment_score and is not dependent on the frequency."
   ]
  },
  {
   "cell_type": "code",
   "execution_count": 138,
   "metadata": {
    "colab": {
     "base_uri": "https://localhost:8080/",
     "height": 350
    },
    "id": "Zb-o4GjaUVbD",
    "outputId": "4de26661-f113-4b8d-d4dc-b337d1715967"
   },
   "outputs": [
    {
     "data": {
      "image/png": "[encoded data removed]",
      "text/plain": [
       "<Figure size 720x360 with 1 Axes>"
      ]
     },
     "metadata": {
      "needs_background": "light"
     },
     "output_type": "display_data"
    }
   ],
   "source": [
    "# Checking Relation between Delay and Quarter\n",
    "\n",
    "plt.figure(figsize=(10,5))\n",
    "sns.lineplot(x=train[\"due_in_date\"].dt.quarter, y=train.delay)\n",
    "plt.xlabel(\"Due Date Quarter\")\n",
    "plt.ylabel(\"Delay\")\n",
    "plt.title(\"Quarter vs Delay\")\n",
    "plt.show()"
   ]
  },
  {
   "cell_type": "markdown",
   "metadata": {},
   "source": [
    "It is observed that the delay is high in the first two quarters and payments are early in the last quarter"
   ]
  },
  {
   "cell_type": "code",
   "execution_count": 139,
   "metadata": {
    "colab": {
     "base_uri": "https://localhost:8080/",
     "height": 338
    },
    "id": "fMHGy9aKUZOL",
    "outputId": "ef8e3d44-1165-4711-9e95-a3097c5c17dd"
   },
   "outputs": [
    {
     "data": {
      "image/png": "[encoded data removed]",
      "text/plain": [
       "<Figure size 1440x504 with 1 Axes>"
      ]
     },
     "metadata": {
      "needs_background": "light"
     },
     "output_type": "display_data"
    }
   ],
   "source": [
    "# Checking relation between delay and week of year\n",
    "\n",
    "plt.figure(figsize=(20,7))\n",
    "plt.scatter(np.array(train[\"due_in_date\"].dt.isocalendar().week), train.delay,color='g')\n",
    "plt.xlabel(\"Due date\")\n",
    "plt.ylabel(\"Delay\")\n",
    "plt.title(\"Due date vs delay\")\n",
    "plt.show()\n"
   ]
  },
  {
   "cell_type": "markdown",
   "metadata": {},
   "source": [
    "It is noticed that the delays are high in the first 3 weeks of the year and the last 2 weeks of the year"
   ]
  },
  {
   "cell_type": "code",
   "execution_count": 140,
   "metadata": {
    "colab": {
     "base_uri": "https://localhost:8080/"
    },
    "id": "w3CbsGYYUcd6",
    "outputId": "3c073e29-34c7-4abc-a2d9-d5e0cef6f257"
   },
   "outputs": [
    {
     "data": {
      "text/plain": [
       "business_code            5\n",
       "cust_number           1284\n",
       "name_customer         3532\n",
       "invoice_currency         2\n",
       "document type            2\n",
       "cust_payment_terms      68\n",
       "dtype: int64"
      ]
     },
     "execution_count": 140,
     "metadata": {},
     "output_type": "execute_result"
    }
   ],
   "source": [
    "# Now Analysing the catagorical columns\n",
    "\n",
    "cat_columns=list(train.columns[train.dtypes=='object'])\n",
    "train[cat_columns].nunique()"
   ]
  },
  {
   "cell_type": "code",
   "execution_count": 145,
   "metadata": {
    "colab": {
     "base_uri": "https://localhost:8080/"
    },
    "id": "fdXnvI-aUf-m",
    "outputId": "98ee945c-a95a-45c8-b789-43d6923b4c7c"
   },
   "outputs": [
    {
     "name": "stdout",
     "output_type": "stream",
     "text": [
      "Business Codes:    ['CA02' 'U001' 'U013' 'U002' 'U005']\n",
      "Invoice currency:  ['CAD' 'USD']\n",
      "Document type:     ['X2' 'RV']\n"
     ]
    }
   ],
   "source": [
    "print(\"Business Codes:   \",train.business_code.unique())       # Checking all unique business code , only 5 types are there.\n",
    "\n",
    "print(\"Invoice currency: \",train.invoice_currency.unique())    # Checking invoice currency available , it is observed only 2 types are there.\n",
    "                                                               # It can be cateogarised into binary column: \"isUSD\"\n",
    "\n",
    "print(\"Document type:    \",train['document type'].unique())    # Checking the document type , only 2 types ate there.\n"
   ]
  },
  {
   "cell_type": "code",
   "execution_count": 142,
   "metadata": {
    "colab": {
     "base_uri": "https://localhost:8080/"
    },
    "id": "IbBzIMMYUk1W",
    "outputId": "9529ed60-0ee0-4634-fb1c-8be65da68894"
   },
   "outputs": [
    {
     "name": "stdout",
     "output_type": "stream",
     "text": [
      "USD    28643\n",
      "CAD     2443\n",
      "Name: invoice_currency, dtype: int64\n",
      "RV    31079\n",
      "X2        7\n",
      "Name: document type, dtype: int64\n"
     ]
    }
   ],
   "source": [
    "print(train.invoice_currency.value_counts())   # Counts the number of invoice_currency in USD and CAD.\n",
    "\n",
    "print(train['document type'].value_counts())   # Counts the number of documents in RV and X2 type."
   ]
  },
  {
   "cell_type": "code",
   "execution_count": 143,
   "metadata": {
    "colab": {
     "base_uri": "https://localhost:8080/",
     "height": 387
    },
    "id": "m5GoBx8dUoTe",
    "outputId": "828c3801-befc-455d-edf8-2553f444ef48"
   },
   "outputs": [
    {
     "data": {
      "text/plain": [
       "<AxesSubplot:>"
      ]
     },
     "execution_count": 143,
     "metadata": {},
     "output_type": "execute_result"
    },
    {
     "data": {
      "image/png": "[encoded data removed]",
      "text/plain": [
       "<Figure size 432x288 with 2 Axes>"
      ]
     },
     "metadata": {
      "needs_background": "light"
     },
     "output_type": "display_data"
    }
   ],
   "source": [
    "cat_corr = pd.get_dummies(train[[\"business_code\",\"invoice_currency\",\"document type\"]]).corr()\n",
    "sns.heatmap(cat_corr)\n",
    "\n",
    "# heatmap showing correlation."
   ]
  },
  {
   "cell_type": "code",
   "execution_count": 144,
   "metadata": {
    "id": "3vdcbnGUUrZP"
   },
   "outputs": [],
   "source": [
    "# cust_payment_terms -> Business terms and agreements between customers and accounts on discounts and days of payment.\n",
    "\n",
    "key = set(train[\"cust_payment_terms\"])\n",
    "value = list(range(1,len(key)+1))\n",
    "\n",
    "mapping = {}                           # Dictionary\n",
    "\n",
    "for k,v in zip(key,value):\n",
    "    mapping[k] = v                     # To every 'key' we are assigning a 'value'.\n",
    "    \n",
    "# Function to map label\n",
    "def payment_label_encoder(label):\n",
    "    return mapping.get(label,999)\n",
    "\n",
    "#Pandas.apply allow the users to pass a function and apply it on every single value of the Pandas series\n",
    "\n",
    "train[\"cust_payment_terms\"] = train[\"cust_payment_terms\"].apply(payment_label_encoder)  \n",
    "test[\"cust_payment_terms\"]  = test[\"cust_payment_terms\"].apply(payment_label_encoder)"
   ]
  },
  {
   "cell_type": "markdown",
   "metadata": {},
   "source": [
    "### Label Encoding\n",
    "\n",
    ">replacing the categorical value with a numeric value between 0 and the number of classes minus 1"
   ]
  },
  {
   "cell_type": "code",
   "execution_count": 68,
   "metadata": {
    "id": "JQl50aRbUz4x"
   },
   "outputs": [],
   "source": [
    "# Label Encoding Business Code\n",
    "\n",
    "businessOrdinalEncoder = LabelEncoder()\n",
    "train[\"business_code\"] = businessOrdinalEncoder.fit_transform(train[[\"business_code\"]])\n",
    "test[\"business_code\"]  = businessOrdinalEncoder.transform(test[[\"business_code\"]])"
   ]
  },
  {
   "cell_type": "code",
   "execution_count": 69,
   "metadata": {
    "id": "9vzkZKqgU3hu"
   },
   "outputs": [],
   "source": [
    "# Label Encoding Invoice Currency\n",
    "\n",
    "currencyLabelEncoder = LabelEncoder()\n",
    "train[\"invoice_currency\"] = currencyLabelEncoder.fit_transform(train[\"invoice_currency\"])\n",
    "test[\"invoice_currency\"] = currencyLabelEncoder.transform(test[\"invoice_currency\"])"
   ]
  },
  {
   "cell_type": "code",
   "execution_count": 70,
   "metadata": {
    "id": "C3wQU36zU7WJ"
   },
   "outputs": [],
   "source": [
    "train[\"due_week\"] = train[\"due_in_date\"].dt.isocalendar().week\n",
    "test[\"due_week\"]  = test[\"due_in_date\"].dt.isocalendar().week"
   ]
  },
  {
   "cell_type": "code",
   "execution_count": 71,
   "metadata": {
    "id": "IGGUIeFNU-0G"
   },
   "outputs": [],
   "source": [
    "# Making a feature out of the months of baseline_create_date date\n",
    "\n",
    "train[\"baseline_month\"] = train[\"baseline_create_date\"].dt.month\n",
    "test[\"baseline_month\"]  = test[\"baseline_create_date\"].dt.month"
   ]
  },
  {
   "cell_type": "code",
   "execution_count": 72,
   "metadata": {
    "id": "wDHrKBu5VBxq"
   },
   "outputs": [],
   "source": [
    "# Making a feature out of the days of baseline_create_date date\n",
    "\n",
    "train[\"baseline_day\"] = train[\"baseline_create_date\"].dt.day\n",
    "test[\"baseline_day\"]  = test[\"baseline_create_date\"].dt.day"
   ]
  },
  {
   "cell_type": "code",
   "execution_count": 73,
   "metadata": {
    "id": "cgKyuyYFVEch"
   },
   "outputs": [],
   "source": [
    "# Making a feature out of the difference between due_id_date and baseline_create_date date\n",
    "\n",
    "train[\"due_baseline\"] = (train[\"due_in_date\"] - train[\"baseline_create_date\"]).dt.days\n",
    "test[\"due_baseline\"]  = (test[\"due_in_date\"] - test[\"baseline_create_date\"]).dt.days"
   ]
  },
  {
   "cell_type": "code",
   "execution_count": 74,
   "metadata": {
    "id": "bSuIs4RAVHYE"
   },
   "outputs": [],
   "source": [
    "# Making a feature out of the mean delay per customer\n",
    "\n",
    "cust_mean_delay     = train.groupby(\"cust_number\")['delay'].mean().to_dict()\n",
    "train['mean_delay'] = train['cust_number'].map(cust_mean_delay)\n",
    "test['mean_delay']  = test['cust_number'].map(cust_mean_delay)"
   ]
  },
  {
   "cell_type": "code",
   "execution_count": 75,
   "metadata": {
    "id": "u9o8zyWqVKTy"
   },
   "outputs": [],
   "source": [
    "# Making the train set ready to be fitted into regressors\n",
    "\n",
    "x_train = train.loc[:,[\"invoice_currency\",\"total_open_amount\",\"cust_payment_terms\",\"baseline_month\",\"baseline_day\",\"due_baseline\",\"mean_delay\"]]\n",
    "y_train = train.loc[:,[\"delay\"]]"
   ]
  },
  {
   "cell_type": "markdown",
   "metadata": {},
   "source": [
    "### train_test_split -> Split data frame into random train and test subsets.\n",
    "> **test_size** -> splits the test set into 50% validation set and 50% test set\n",
    "\n",
    "> **shuffle** -> Whether or not to shuffle the data before splitting. \n",
    "\n",
    "> **random_state** -> sets a seed to the random generator, so that your train-test splits are always deterministic. If you don't set a seed, it is different each time."
   ]
  },
  {
   "cell_type": "code",
   "execution_count": 76,
   "metadata": {
    "id": "rgGdysFFVNJR"
   },
   "outputs": [],
   "source": [
    "X = test.loc[:,[\"invoice_currency\",\"total_open_amount\",\"cust_payment_terms\",\"baseline_month\",\"baseline_day\",\"due_baseline\",\"mean_delay\"]]\n",
    "y = test.loc[:,[\"delay\"]]\n",
    "X_validation, X_test, y_validation, y_test = train_test_split(X, y, test_size=0.5, shuffle=False, random_state=42)\n",
    "\n",
    "# Keeping Train,Val and Test as 70% /15% /15%"
   ]
  },
  {
   "cell_type": "markdown",
   "metadata": {},
   "source": [
    "# Training and Tuning using Random Forest"
   ]
  },
  {
   "cell_type": "markdown",
   "metadata": {},
   "source": [
    "> **n_jobs** -> The number of jobs to run in parallel. -1 means using all processors.\n",
    "\n",
    "> **n_estimatorsint** -> The number of trees in the forest.\n",
    "\n",
    "> **max_depthint** -> The maximum depth of the tree.\n",
    "\n",
    "> **verboseint** -> Controls the verbosity when fitting and predicting."
   ]
  },
  {
   "cell_type": "code",
   "execution_count": 77,
   "metadata": {
    "id": "iV-JpFieVP1Y"
   },
   "outputs": [],
   "source": [
    "# Creating a RandomForestRegressor with arbitrary parameters\n",
    "\n",
    "rfr = RandomForestRegressor(n_jobs=-1,n_estimators=200,max_depth=10,verbose=1)"
   ]
  },
  {
   "cell_type": "code",
   "execution_count": 106,
   "metadata": {},
   "outputs": [
    {
     "name": "stderr",
     "output_type": "stream",
     "text": [
      "[Parallel(n_jobs=-1)]: Using backend ThreadingBackend with 8 concurrent workers.\n",
      "[Parallel(n_jobs=-1)]: Done  34 tasks      | elapsed:    0.5s\n",
      "[Parallel(n_jobs=-1)]: Done 184 tasks      | elapsed:    2.4s\n",
      "[Parallel(n_jobs=-1)]: Done 200 out of 200 | elapsed:    2.6s finished\n"
     ]
    }
   ],
   "source": [
    "rfr.fit(x_train,y_train)"
   ]
  },
  {
   "cell_type": "code",
   "execution_count": 84,
   "metadata": {
    "colab": {
     "base_uri": "https://localhost:8080/"
    },
    "id": "0qLr5RsdVWeE",
    "outputId": "6e9acdce-c388-4d65-a5d5-697932372022"
   },
   "outputs": [
    {
     "name": "stdout",
     "output_type": "stream",
     "text": [
      "<class 'pandas.core.frame.DataFrame'>\n",
      "Int64Index: 7178 entries, 7178 to 14355\n",
      "Data columns (total 7 columns):\n",
      " #   Column              Non-Null Count  Dtype  \n",
      "---  ------              --------------  -----  \n",
      " 0   invoice_currency    7178 non-null   int32  \n",
      " 1   total_open_amount   7178 non-null   float64\n",
      " 2   cust_payment_terms  7178 non-null   int64  \n",
      " 3   baseline_month      7178 non-null   int64  \n",
      " 4   baseline_day        7178 non-null   int64  \n",
      " 5   due_baseline        7178 non-null   int64  \n",
      " 6   mean_delay          7178 non-null   float64\n",
      "dtypes: float64(2), int32(1), int64(4)\n",
      "memory usage: 420.6 KB\n"
     ]
    }
   ],
   "source": [
    "X_test.info()  "
   ]
  },
  {
   "cell_type": "markdown",
   "metadata": {},
   "source": [
    "There appear to be some null values in the mean delay column"
   ]
  },
  {
   "cell_type": "markdown",
   "metadata": {},
   "source": [
    "### NULL imputation \n",
    "\n",
    "> replacing the missing values with an estimate"
   ]
  },
  {
   "cell_type": "code",
   "execution_count": 85,
   "metadata": {
    "colab": {
     "base_uri": "https://localhost:8080/"
    },
    "id": "MrPc2ed4VlUY",
    "outputId": "d7579683-5514-4d43-ef5e-17d31a45591e"
   },
   "outputs": [],
   "source": [
    "# Null imputation on the test set\n",
    "\n",
    "X_test[\"mean_delay\"] = X_test[\"mean_delay\"].fillna(X_test[\"mean_delay\"].mean())"
   ]
  },
  {
   "cell_type": "code",
   "execution_count": 86,
   "metadata": {
    "colab": {
     "base_uri": "https://localhost:8080/"
    },
    "id": "qbWFBd1QVoal",
    "outputId": "ab84b9b2-9597-4c6f-c0ec-a3a202a4d110"
   },
   "outputs": [],
   "source": [
    "# Null imputation on the validation set\n",
    "\n",
    "X_validation[\"mean_delay\"] = X_validation[\"mean_delay\"].fillna(X_validation[\"mean_delay\"].mean())"
   ]
  },
  {
   "cell_type": "code",
   "execution_count": 87,
   "metadata": {
    "colab": {
     "base_uri": "https://localhost:8080/"
    },
    "id": "40IufyFXVsWP",
    "outputId": "aec7dd8e-bd51-4eb4-f81e-c418e38fc6f5"
   },
   "outputs": [
    {
     "name": "stdout",
     "output_type": "stream",
     "text": [
      "<class 'pandas.core.frame.DataFrame'>\n",
      "Int64Index: 7178 entries, 7178 to 14355\n",
      "Data columns (total 7 columns):\n",
      " #   Column              Non-Null Count  Dtype  \n",
      "---  ------              --------------  -----  \n",
      " 0   invoice_currency    7178 non-null   int32  \n",
      " 1   total_open_amount   7178 non-null   float64\n",
      " 2   cust_payment_terms  7178 non-null   int64  \n",
      " 3   baseline_month      7178 non-null   int64  \n",
      " 4   baseline_day        7178 non-null   int64  \n",
      " 5   due_baseline        7178 non-null   int64  \n",
      " 6   mean_delay          7178 non-null   float64\n",
      "dtypes: float64(2), int32(1), int64(4)\n",
      "memory usage: 420.6 KB\n"
     ]
    }
   ],
   "source": [
    "X_test.info()"
   ]
  },
  {
   "cell_type": "code",
   "execution_count": 88,
   "metadata": {
    "colab": {
     "base_uri": "https://localhost:8080/"
    },
    "id": "-eUUeejfVvJ4",
    "outputId": "54830ddd-f18f-4052-ac95-5b0adda11229"
   },
   "outputs": [
    {
     "name": "stderr",
     "output_type": "stream",
     "text": [
      "[Parallel(n_jobs=8)]: Using backend ThreadingBackend with 8 concurrent workers.\n",
      "[Parallel(n_jobs=8)]: Done  34 tasks      | elapsed:    0.0s\n",
      "[Parallel(n_jobs=8)]: Done 184 tasks      | elapsed:    0.0s\n",
      "[Parallel(n_jobs=8)]: Done 200 out of 200 | elapsed:    0.0s finished\n"
     ]
    },
    {
     "data": {
      "text/plain": [
       "0.16140811394650034"
      ]
     },
     "execution_count": 88,
     "metadata": {},
     "output_type": "execute_result"
    }
   ],
   "source": [
    "rfr.score(X_validation,y_validation)"
   ]
  },
  {
   "cell_type": "code",
   "execution_count": 89,
   "metadata": {
    "colab": {
     "base_uri": "https://localhost:8080/"
    },
    "id": "cTGLpAN1VyVn",
    "outputId": "229f45a1-ba4d-44aa-888a-7903ba01f0b7"
   },
   "outputs": [
    {
     "name": "stderr",
     "output_type": "stream",
     "text": [
      "[Parallel(n_jobs=8)]: Using backend ThreadingBackend with 8 concurrent workers.\n",
      "[Parallel(n_jobs=8)]: Done  34 tasks      | elapsed:    0.0s\n",
      "[Parallel(n_jobs=8)]: Done 184 tasks      | elapsed:    0.0s\n",
      "[Parallel(n_jobs=8)]: Done 200 out of 200 | elapsed:    0.0s finished\n"
     ]
    }
   ],
   "source": [
    "y_pred = rfr.predict(X_validation)"
   ]
  },
  {
   "cell_type": "code",
   "execution_count": 90,
   "metadata": {
    "colab": {
     "base_uri": "https://localhost:8080/"
    },
    "id": "0TgZWy5EV1i9",
    "outputId": "15089dba-467a-440d-952c-ba66056010da"
   },
   "outputs": [
    {
     "name": "stdout",
     "output_type": "stream",
     "text": [
      "0.16140811394650034\n"
     ]
    },
    {
     "name": "stderr",
     "output_type": "stream",
     "text": [
      "[Parallel(n_jobs=8)]: Using backend ThreadingBackend with 8 concurrent workers.\n",
      "[Parallel(n_jobs=8)]: Done  34 tasks      | elapsed:    0.0s\n"
     ]
    },
    {
     "name": "stdout",
     "output_type": "stream",
     "text": [
      "0.7522906553775864\n"
     ]
    },
    {
     "name": "stderr",
     "output_type": "stream",
     "text": [
      "[Parallel(n_jobs=8)]: Done 184 tasks      | elapsed:    0.1s\n",
      "[Parallel(n_jobs=8)]: Done 200 out of 200 | elapsed:    0.1s finished\n"
     ]
    }
   ],
   "source": [
    "print(r2_score(y_validation, y_pred))\n",
    "print(r2_score(y_train, rfr.predict(x_train)))"
   ]
  },
  {
   "cell_type": "markdown",
   "metadata": {},
   "source": [
    "### Hyper Parameter Tuning our regressor\n",
    "\n",
    ">determine the optimal values to be used for the hyperparameters of our model from a specified range of values."
   ]
  },
  {
   "cell_type": "code",
   "execution_count": 91,
   "metadata": {
    "colab": {
     "base_uri": "https://localhost:8080/"
    },
    "id": "1Mcid3iUV4_N",
    "outputId": "5f7aafa3-a958-46fd-e3bb-d65e25d36846",
    "tags": [
     "outputPrepend"
    ]
   },
   "outputs": [
    {
     "name": "stdout",
     "output_type": "stream",
     "text": [
      "Fitting 5 folds for each of 9 candidates, totalling 45 fits\n"
     ]
    },
    {
     "name": "stderr",
     "output_type": "stream",
     "text": [
      "[Parallel(n_jobs=1)]: Using backend SequentialBackend with 1 concurrent workers.\n",
      "[Parallel(n_jobs=-1)]: Using backend LokyBackend with 8 concurrent workers.\n",
      "[Parallel(n_jobs=-1)]: Done  34 tasks      | elapsed:    4.5s\n",
      "[Parallel(n_jobs=-1)]: Done 200 out of 200 | elapsed:    6.2s finished\n",
      "[Parallel(n_jobs=8)]: Using backend ThreadingBackend with 8 concurrent workers.\n",
      "[Parallel(n_jobs=8)]: Done  34 tasks      | elapsed:    0.0s\n",
      "[Parallel(n_jobs=8)]: Done 184 tasks      | elapsed:    0.0s\n",
      "[Parallel(n_jobs=8)]: Done 200 out of 200 | elapsed:    0.0s finished\n",
      "[Parallel(n_jobs=-1)]: Using backend LokyBackend with 8 concurrent workers.\n",
      "[Parallel(n_jobs=-1)]: Done  52 tasks      | elapsed:    0.7s\n",
      "[Parallel(n_jobs=-1)]: Done 185 out of 200 | elapsed:    2.3s remaining:    0.1s\n",
      "[Parallel(n_jobs=-1)]: Done 200 out of 200 | elapsed:    2.4s finished\n",
      "[Parallel(n_jobs=8)]: Using backend ThreadingBackend with 8 concurrent workers.\n",
      "[Parallel(n_jobs=8)]: Done  34 tasks      | elapsed:    0.0s\n",
      "[Parallel(n_jobs=8)]: Done 184 tasks      | elapsed:    0.0s\n",
      "[Parallel(n_jobs=8)]: Done 200 out of 200 | elapsed:    0.0s finished\n",
      "[Parallel(n_jobs=-1)]: Using backend LokyBackend with 8 concurrent workers.\n",
      "[Parallel(n_jobs=-1)]: Done  52 tasks      | elapsed:    0.7s\n",
      "[Parallel(n_jobs=-1)]: Done 185 out of 200 | elapsed:    2.4s remaining:    0.1s\n",
      "[Parallel(n_jobs=-1)]: Done 200 out of 200 | elapsed:    2.5s finished\n",
      "[Parallel(n_jobs=8)]: Using backend ThreadingBackend with 8 concurrent workers.\n",
      "[Parallel(n_jobs=8)]: Done  34 tasks      | elapsed:    0.0s\n",
      "[Parallel(n_jobs=8)]: Done 184 tasks      | elapsed:    0.1s\n",
      "[Parallel(n_jobs=8)]: Done 200 out of 200 | elapsed:    0.1s finished\n",
      "[Parallel(n_jobs=-1)]: Using backend LokyBackend with 8 concurrent workers.\n",
      "[Parallel(n_jobs=-1)]: Done  52 tasks      | elapsed:    0.7s\n",
      "[Parallel(n_jobs=-1)]: Done 185 out of 200 | elapsed:    2.0s remaining:    0.1s\n",
      "[Parallel(n_jobs=-1)]: Done 200 out of 200 | elapsed:    2.1s finished\n",
      "[Parallel(n_jobs=8)]: Using backend ThreadingBackend with 8 concurrent workers.\n",
      "[Parallel(n_jobs=8)]: Done  34 tasks      | elapsed:    0.0s\n",
      "[Parallel(n_jobs=8)]: Done 184 tasks      | elapsed:    0.0s\n",
      "[Parallel(n_jobs=8)]: Done 200 out of 200 | elapsed:    0.0s finished\n",
      "[Parallel(n_jobs=-1)]: Using backend LokyBackend with 8 concurrent workers.\n",
      "[Parallel(n_jobs=-1)]: Done  52 tasks      | elapsed:    0.5s\n",
      "[Parallel(n_jobs=-1)]: Done 200 out of 200 | elapsed:    2.1s finished\n",
      "[Parallel(n_jobs=8)]: Using backend ThreadingBackend with 8 concurrent workers.\n",
      "[Parallel(n_jobs=8)]: Done  34 tasks      | elapsed:    0.0s\n",
      "[Parallel(n_jobs=8)]: Done 184 tasks      | elapsed:    0.0s\n",
      "[Parallel(n_jobs=8)]: Done 200 out of 200 | elapsed:    0.0s finished\n",
      "[Parallel(n_jobs=-1)]: Using backend LokyBackend with 8 concurrent workers.\n",
      "[Parallel(n_jobs=-1)]: Done  52 tasks      | elapsed:    1.0s\n",
      "[Parallel(n_jobs=-1)]: Done 352 tasks      | elapsed:    6.0s\n",
      "[Parallel(n_jobs=-1)]: Done 500 out of 500 | elapsed:    8.6s finished\n",
      "[Parallel(n_jobs=8)]: Using backend ThreadingBackend with 8 concurrent workers.\n",
      "[Parallel(n_jobs=8)]: Done  34 tasks      | elapsed:    0.0s\n",
      "[Parallel(n_jobs=8)]: Done 184 tasks      | elapsed:    0.0s\n",
      "[Parallel(n_jobs=8)]: Done 434 tasks      | elapsed:    0.2s\n",
      "[Parallel(n_jobs=8)]: Done 500 out of 500 | elapsed:    0.2s finished\n",
      "[Parallel(n_jobs=-1)]: Using backend LokyBackend with 8 concurrent workers.\n",
      "[Parallel(n_jobs=-1)]: Done  52 tasks      | elapsed:    0.9s\n",
      "[Parallel(n_jobs=-1)]: Done 352 tasks      | elapsed:    5.4s\n",
      "[Parallel(n_jobs=-1)]: Done 500 out of 500 | elapsed:    7.0s finished\n",
      "[Parallel(n_jobs=8)]: Using backend ThreadingBackend with 8 concurrent workers.\n",
      "[Parallel(n_jobs=8)]: Done  34 tasks      | elapsed:    0.0s\n",
      "[Parallel(n_jobs=8)]: Done 184 tasks      | elapsed:    0.0s\n",
      "[Parallel(n_jobs=8)]: Done 434 tasks      | elapsed:    0.1s\n",
      "[Parallel(n_jobs=8)]: Done 500 out of 500 | elapsed:    0.1s finished\n",
      "[Parallel(n_jobs=-1)]: Using backend LokyBackend with 8 concurrent workers.\n",
      "[Parallel(n_jobs=-1)]: Done  52 tasks      | elapsed:    0.5s\n",
      "[Parallel(n_jobs=-1)]: Done 352 tasks      | elapsed:    4.8s\n",
      "[Parallel(n_jobs=-1)]: Done 500 out of 500 | elapsed:    6.8s finished\n",
      "[Parallel(n_jobs=8)]: Using backend ThreadingBackend with 8 concurrent workers.\n",
      "[Parallel(n_jobs=8)]: Done  34 tasks      | elapsed:    0.0s\n",
      "[Parallel(n_jobs=8)]: Done 184 tasks      | elapsed:    0.0s\n",
      "[Parallel(n_jobs=8)]: Done 434 tasks      | elapsed:    0.1s\n",
      "[Parallel(n_jobs=8)]: Done 500 out of 500 | elapsed:    0.1s finished\n",
      "[Parallel(n_jobs=-1)]: Using backend LokyBackend with 8 concurrent workers.\n",
      "[Parallel(n_jobs=-1)]: Done  52 tasks      | elapsed:    0.5s\n",
      "[Parallel(n_jobs=-1)]: Done 352 tasks      | elapsed:    3.4s\n",
      "[Parallel(n_jobs=-1)]: Done 500 out of 500 | elapsed:    4.8s finished\n",
      "[Parallel(n_jobs=8)]: Using backend ThreadingBackend with 8 concurrent workers.\n",
      "[Parallel(n_jobs=8)]: Done  34 tasks      | elapsed:    0.0s\n",
      "[Parallel(n_jobs=8)]: Done 184 tasks      | elapsed:    0.0s\n",
      "[Parallel(n_jobs=8)]: Done 434 tasks      | elapsed:    0.1s\n",
      "[Parallel(n_jobs=8)]: Done 500 out of 500 | elapsed:    0.1s finished\n",
      "[Parallel(n_jobs=-1)]: Using backend LokyBackend with 8 concurrent workers.\n",
      "[Parallel(n_jobs=-1)]: Done  52 tasks      | elapsed:    0.6s\n",
      "[Parallel(n_jobs=-1)]: Done 352 tasks      | elapsed:    4.4s\n",
      "[Parallel(n_jobs=-1)]: Done 500 out of 500 | elapsed:    6.1s finished\n",
      "[Parallel(n_jobs=8)]: Using backend ThreadingBackend with 8 concurrent workers.\n",
      "[Parallel(n_jobs=8)]: Done  34 tasks      | elapsed:    0.0s\n",
      "[Parallel(n_jobs=8)]: Done 184 tasks      | elapsed:    0.0s\n",
      "[Parallel(n_jobs=8)]: Done 434 tasks      | elapsed:    0.2s\n",
      "[Parallel(n_jobs=8)]: Done 500 out of 500 | elapsed:    0.2s finished\n",
      "[Parallel(n_jobs=-1)]: Using backend LokyBackend with 8 concurrent workers.\n",
      "[Parallel(n_jobs=-1)]: Done  52 tasks      | elapsed:    0.6s\n",
      "[Parallel(n_jobs=-1)]: Done 352 tasks      | elapsed:    3.5s\n",
      "[Parallel(n_jobs=-1)]: Done 852 tasks      | elapsed:   11.9s\n",
      "[Parallel(n_jobs=-1)]: Done 985 out of 1000 | elapsed:   13.6s remaining:    0.1s\n",
      "[Parallel(n_jobs=-1)]: Done 1000 out of 1000 | elapsed:   13.7s finished\n",
      "[Parallel(n_jobs=8)]: Using backend ThreadingBackend with 8 concurrent workers.\n",
      "[Parallel(n_jobs=8)]: Done  34 tasks      | elapsed:    0.0s\n",
      "[Parallel(n_jobs=8)]: Done 184 tasks      | elapsed:    0.0s\n",
      "[Parallel(n_jobs=8)]: Done 434 tasks      | elapsed:    0.1s\n",
      "[Parallel(n_jobs=8)]: Done 784 tasks      | elapsed:    0.2s\n",
      "[Parallel(n_jobs=8)]: Done 1000 out of 1000 | elapsed:    0.3s finished\n",
      "[Parallel(n_jobs=-1)]: Using backend LokyBackend with 8 concurrent workers.\n",
      "[Parallel(n_jobs=-1)]: Done  52 tasks      | elapsed:    0.7s\n",
      "[Parallel(n_jobs=-1)]: Done 352 tasks      | elapsed:    3.9s\n",
      "[Parallel(n_jobs=-1)]: Done 852 tasks      | elapsed:    8.9s\n",
      "[Parallel(n_jobs=-1)]: Done 1000 out of 1000 | elapsed:   10.5s finished\n",
      "[Parallel(n_jobs=8)]: Using backend ThreadingBackend with 8 concurrent workers.\n",
      "[Parallel(n_jobs=8)]: Done  34 tasks      | elapsed:    0.0s\n",
      "[Parallel(n_jobs=8)]: Done 184 tasks      | elapsed:    0.0s\n",
      "[Parallel(n_jobs=8)]: Done 434 tasks      | elapsed:    0.1s\n",
      "[Parallel(n_jobs=8)]: Done 784 tasks      | elapsed:    0.2s\n",
      "[Parallel(n_jobs=8)]: Done 1000 out of 1000 | elapsed:    0.3s finished\n",
      "[Parallel(n_jobs=-1)]: Using backend LokyBackend with 8 concurrent workers.\n",
      "[Parallel(n_jobs=-1)]: Done  56 tasks      | elapsed:    0.6s\n",
      "[Parallel(n_jobs=-1)]: Done 656 tasks      | elapsed:    7.4s\n",
      "[Parallel(n_jobs=-1)]: Done 1000 out of 1000 | elapsed:   12.3s finished\n",
      "[Parallel(n_jobs=8)]: Using backend ThreadingBackend with 8 concurrent workers.\n",
      "[Parallel(n_jobs=8)]: Done  34 tasks      | elapsed:    0.0s\n",
      "[Parallel(n_jobs=8)]: Done 184 tasks      | elapsed:    0.0s\n",
      "[Parallel(n_jobs=8)]: Done 434 tasks      | elapsed:    0.1s\n",
      "[Parallel(n_jobs=8)]: Done 784 tasks      | elapsed:    0.3s\n",
      "[Parallel(n_jobs=8)]: Done 1000 out of 1000 | elapsed:    0.4s finished\n",
      "[Parallel(n_jobs=-1)]: Using backend LokyBackend with 8 concurrent workers.\n",
      "[Parallel(n_jobs=-1)]: Done  52 tasks      | elapsed:    0.6s\n",
      "[Parallel(n_jobs=-1)]: Done 352 tasks      | elapsed:    3.5s\n",
      "[Parallel(n_jobs=-1)]: Done 852 tasks      | elapsed:    8.1s\n"
     ]
    },
    {
     "name": "stderr",
     "output_type": "stream",
     "text": [
      "[Parallel(n_jobs=-1)]: Done 1000 out of 1000 | elapsed:    9.5s finished\n",
      "[Parallel(n_jobs=8)]: Using backend ThreadingBackend with 8 concurrent workers.\n",
      "[Parallel(n_jobs=8)]: Done  34 tasks      | elapsed:    0.0s\n",
      "[Parallel(n_jobs=8)]: Done 184 tasks      | elapsed:    0.0s\n",
      "[Parallel(n_jobs=8)]: Done 434 tasks      | elapsed:    0.1s\n",
      "[Parallel(n_jobs=8)]: Done 784 tasks      | elapsed:    0.2s\n",
      "[Parallel(n_jobs=8)]: Done 1000 out of 1000 | elapsed:    0.3s finished\n",
      "[Parallel(n_jobs=-1)]: Using backend LokyBackend with 8 concurrent workers.\n",
      "[Parallel(n_jobs=-1)]: Done  52 tasks      | elapsed:    0.5s\n",
      "[Parallel(n_jobs=-1)]: Done 352 tasks      | elapsed:    3.9s\n",
      "[Parallel(n_jobs=-1)]: Done 852 tasks      | elapsed:    9.6s\n",
      "[Parallel(n_jobs=-1)]: Done 1000 out of 1000 | elapsed:   10.9s finished\n",
      "[Parallel(n_jobs=8)]: Using backend ThreadingBackend with 8 concurrent workers.\n",
      "[Parallel(n_jobs=8)]: Done  34 tasks      | elapsed:    0.0s\n",
      "[Parallel(n_jobs=8)]: Done 184 tasks      | elapsed:    0.0s\n",
      "[Parallel(n_jobs=8)]: Done 434 tasks      | elapsed:    0.1s\n",
      "[Parallel(n_jobs=8)]: Done 784 tasks      | elapsed:    0.2s\n",
      "[Parallel(n_jobs=8)]: Done 1000 out of 1000 | elapsed:    0.3s finished\n",
      "[Parallel(n_jobs=-1)]: Using backend LokyBackend with 8 concurrent workers.\n",
      "[Parallel(n_jobs=-1)]: Done  52 tasks      | elapsed:    0.6s\n",
      "[Parallel(n_jobs=-1)]: Done 200 out of 200 | elapsed:    2.2s finished\n",
      "[Parallel(n_jobs=8)]: Using backend ThreadingBackend with 8 concurrent workers.\n",
      "[Parallel(n_jobs=8)]: Done  34 tasks      | elapsed:    0.0s\n",
      "[Parallel(n_jobs=8)]: Done 184 tasks      | elapsed:    0.0s\n",
      "[Parallel(n_jobs=8)]: Done 200 out of 200 | elapsed:    0.0s finished\n",
      "[Parallel(n_jobs=-1)]: Using backend LokyBackend with 8 concurrent workers.\n",
      "[Parallel(n_jobs=-1)]: Done  52 tasks      | elapsed:    0.6s\n",
      "[Parallel(n_jobs=-1)]: Done 200 out of 200 | elapsed:    2.1s finished\n",
      "[Parallel(n_jobs=8)]: Using backend ThreadingBackend with 8 concurrent workers.\n",
      "[Parallel(n_jobs=8)]: Done  34 tasks      | elapsed:    0.0s\n",
      "[Parallel(n_jobs=8)]: Done 184 tasks      | elapsed:    0.0s\n",
      "[Parallel(n_jobs=8)]: Done 200 out of 200 | elapsed:    0.0s finished\n",
      "[Parallel(n_jobs=-1)]: Using backend LokyBackend with 8 concurrent workers.\n",
      "[Parallel(n_jobs=-1)]: Done  52 tasks      | elapsed:    0.6s\n",
      "[Parallel(n_jobs=-1)]: Done 185 out of 200 | elapsed:    2.0s remaining:    0.1s\n",
      "[Parallel(n_jobs=-1)]: Done 200 out of 200 | elapsed:    2.1s finished\n",
      "[Parallel(n_jobs=8)]: Using backend ThreadingBackend with 8 concurrent workers.\n",
      "[Parallel(n_jobs=8)]: Done  34 tasks      | elapsed:    0.0s\n",
      "[Parallel(n_jobs=8)]: Done 184 tasks      | elapsed:    0.0s\n",
      "[Parallel(n_jobs=8)]: Done 200 out of 200 | elapsed:    0.0s finished\n",
      "[Parallel(n_jobs=-1)]: Using backend LokyBackend with 8 concurrent workers.\n",
      "[Parallel(n_jobs=-1)]: Done  52 tasks      | elapsed:    0.7s\n",
      "[Parallel(n_jobs=-1)]: Done 185 out of 200 | elapsed:    2.1s remaining:    0.1s\n",
      "[Parallel(n_jobs=-1)]: Done 200 out of 200 | elapsed:    2.3s finished\n",
      "[Parallel(n_jobs=8)]: Using backend ThreadingBackend with 8 concurrent workers.\n",
      "[Parallel(n_jobs=8)]: Done  34 tasks      | elapsed:    0.0s\n",
      "[Parallel(n_jobs=8)]: Done 184 tasks      | elapsed:    0.0s\n",
      "[Parallel(n_jobs=8)]: Done 200 out of 200 | elapsed:    0.0s finished\n",
      "[Parallel(n_jobs=-1)]: Using backend LokyBackend with 8 concurrent workers.\n",
      "[Parallel(n_jobs=-1)]: Done  52 tasks      | elapsed:    0.6s\n",
      "[Parallel(n_jobs=-1)]: Done 185 out of 200 | elapsed:    2.0s remaining:    0.1s\n",
      "[Parallel(n_jobs=-1)]: Done 200 out of 200 | elapsed:    2.1s finished\n",
      "[Parallel(n_jobs=8)]: Using backend ThreadingBackend with 8 concurrent workers.\n",
      "[Parallel(n_jobs=8)]: Done  34 tasks      | elapsed:    0.0s\n",
      "[Parallel(n_jobs=8)]: Done 184 tasks      | elapsed:    0.0s\n",
      "[Parallel(n_jobs=8)]: Done 200 out of 200 | elapsed:    0.0s finished\n",
      "[Parallel(n_jobs=-1)]: Using backend LokyBackend with 8 concurrent workers.\n",
      "[Parallel(n_jobs=-1)]: Done  52 tasks      | elapsed:    0.6s\n",
      "[Parallel(n_jobs=-1)]: Done 352 tasks      | elapsed:    4.0s\n",
      "[Parallel(n_jobs=-1)]: Done 500 out of 500 | elapsed:    5.6s finished\n",
      "[Parallel(n_jobs=8)]: Using backend ThreadingBackend with 8 concurrent workers.\n",
      "[Parallel(n_jobs=8)]: Done  34 tasks      | elapsed:    0.0s\n",
      "[Parallel(n_jobs=8)]: Done 184 tasks      | elapsed:    0.0s\n",
      "[Parallel(n_jobs=8)]: Done 434 tasks      | elapsed:    0.1s\n",
      "[Parallel(n_jobs=8)]: Done 500 out of 500 | elapsed:    0.1s finished\n",
      "[Parallel(n_jobs=-1)]: Using backend LokyBackend with 8 concurrent workers.\n",
      "[Parallel(n_jobs=-1)]: Done  52 tasks      | elapsed:    0.7s\n",
      "[Parallel(n_jobs=-1)]: Done 352 tasks      | elapsed:    3.9s\n",
      "[Parallel(n_jobs=-1)]: Done 500 out of 500 | elapsed:    5.6s finished\n",
      "[Parallel(n_jobs=8)]: Using backend ThreadingBackend with 8 concurrent workers.\n",
      "[Parallel(n_jobs=8)]: Done  34 tasks      | elapsed:    0.0s\n",
      "[Parallel(n_jobs=8)]: Done 184 tasks      | elapsed:    0.0s\n",
      "[Parallel(n_jobs=8)]: Done 434 tasks      | elapsed:    0.1s\n",
      "[Parallel(n_jobs=8)]: Done 500 out of 500 | elapsed:    0.1s finished\n",
      "[Parallel(n_jobs=-1)]: Using backend LokyBackend with 8 concurrent workers.\n",
      "[Parallel(n_jobs=-1)]: Done  52 tasks      | elapsed:    0.6s\n",
      "[Parallel(n_jobs=-1)]: Done 352 tasks      | elapsed:    3.9s\n",
      "[Parallel(n_jobs=-1)]: Done 500 out of 500 | elapsed:    5.6s finished\n",
      "[Parallel(n_jobs=8)]: Using backend ThreadingBackend with 8 concurrent workers.\n",
      "[Parallel(n_jobs=8)]: Done  34 tasks      | elapsed:    0.0s\n",
      "[Parallel(n_jobs=8)]: Done 184 tasks      | elapsed:    0.0s\n",
      "[Parallel(n_jobs=8)]: Done 434 tasks      | elapsed:    0.1s\n",
      "[Parallel(n_jobs=8)]: Done 500 out of 500 | elapsed:    0.1s finished\n",
      "[Parallel(n_jobs=-1)]: Using backend LokyBackend with 8 concurrent workers.\n",
      "[Parallel(n_jobs=-1)]: Done  52 tasks      | elapsed:    0.6s\n",
      "[Parallel(n_jobs=-1)]: Done 352 tasks      | elapsed:    3.8s\n",
      "[Parallel(n_jobs=-1)]: Done 500 out of 500 | elapsed:    5.5s finished\n",
      "[Parallel(n_jobs=8)]: Using backend ThreadingBackend with 8 concurrent workers.\n",
      "[Parallel(n_jobs=8)]: Done  34 tasks      | elapsed:    0.0s\n",
      "[Parallel(n_jobs=8)]: Done 184 tasks      | elapsed:    0.0s\n",
      "[Parallel(n_jobs=8)]: Done 434 tasks      | elapsed:    0.1s\n",
      "[Parallel(n_jobs=8)]: Done 500 out of 500 | elapsed:    0.1s finished\n",
      "[Parallel(n_jobs=-1)]: Using backend LokyBackend with 8 concurrent workers.\n",
      "[Parallel(n_jobs=-1)]: Done  52 tasks      | elapsed:    0.6s\n",
      "[Parallel(n_jobs=-1)]: Done 352 tasks      | elapsed:    3.9s\n",
      "[Parallel(n_jobs=-1)]: Done 500 out of 500 | elapsed:    5.5s finished\n",
      "[Parallel(n_jobs=8)]: Using backend ThreadingBackend with 8 concurrent workers.\n",
      "[Parallel(n_jobs=8)]: Done  34 tasks      | elapsed:    0.0s\n",
      "[Parallel(n_jobs=8)]: Done 184 tasks      | elapsed:    0.0s\n",
      "[Parallel(n_jobs=8)]: Done 434 tasks      | elapsed:    0.1s\n",
      "[Parallel(n_jobs=8)]: Done 500 out of 500 | elapsed:    0.1s finished\n",
      "[Parallel(n_jobs=-1)]: Using backend LokyBackend with 8 concurrent workers.\n",
      "[Parallel(n_jobs=-1)]: Done  52 tasks      | elapsed:    0.6s\n",
      "[Parallel(n_jobs=-1)]: Done 352 tasks      | elapsed:    3.8s\n",
      "[Parallel(n_jobs=-1)]: Done 852 tasks      | elapsed:    9.5s\n",
      "[Parallel(n_jobs=-1)]: Done 1000 out of 1000 | elapsed:   11.0s finished\n",
      "[Parallel(n_jobs=8)]: Using backend ThreadingBackend with 8 concurrent workers.\n",
      "[Parallel(n_jobs=8)]: Done  34 tasks      | elapsed:    0.0s\n",
      "[Parallel(n_jobs=8)]: Done 184 tasks      | elapsed:    0.0s\n",
      "[Parallel(n_jobs=8)]: Done 434 tasks      | elapsed:    0.1s\n",
      "[Parallel(n_jobs=8)]: Done 784 tasks      | elapsed:    0.2s\n",
      "[Parallel(n_jobs=8)]: Done 1000 out of 1000 | elapsed:    0.3s finished\n",
      "[Parallel(n_jobs=-1)]: Using backend LokyBackend with 8 concurrent workers.\n",
      "[Parallel(n_jobs=-1)]: Done  52 tasks      | elapsed:    0.7s\n",
      "[Parallel(n_jobs=-1)]: Done 352 tasks      | elapsed:    4.4s\n",
      "[Parallel(n_jobs=-1)]: Done 852 tasks      | elapsed:    9.9s\n",
      "[Parallel(n_jobs=-1)]: Done 985 out of 1000 | elapsed:   11.5s remaining:    0.1s\n",
      "[Parallel(n_jobs=-1)]: Done 1000 out of 1000 | elapsed:   11.6s finished\n",
      "[Parallel(n_jobs=8)]: Using backend ThreadingBackend with 8 concurrent workers.\n",
      "[Parallel(n_jobs=8)]: Done  34 tasks      | elapsed:    0.0s\n",
      "[Parallel(n_jobs=8)]: Done 184 tasks      | elapsed:    0.0s\n",
      "[Parallel(n_jobs=8)]: Done 434 tasks      | elapsed:    0.1s\n"
     ]
    },
    {
     "name": "stderr",
     "output_type": "stream",
     "text": [
      "[Parallel(n_jobs=8)]: Done 784 tasks      | elapsed:    0.2s\n",
      "[Parallel(n_jobs=8)]: Done 1000 out of 1000 | elapsed:    0.3s finished\n",
      "[Parallel(n_jobs=-1)]: Using backend LokyBackend with 8 concurrent workers.\n",
      "[Parallel(n_jobs=-1)]: Done  52 tasks      | elapsed:    0.6s\n",
      "[Parallel(n_jobs=-1)]: Done 352 tasks      | elapsed:    3.8s\n",
      "[Parallel(n_jobs=-1)]: Done 852 tasks      | elapsed:    9.5s\n",
      "[Parallel(n_jobs=-1)]: Done 985 out of 1000 | elapsed:   11.0s remaining:    0.1s\n",
      "[Parallel(n_jobs=-1)]: Done 1000 out of 1000 | elapsed:   11.1s finished\n",
      "[Parallel(n_jobs=8)]: Using backend ThreadingBackend with 8 concurrent workers.\n",
      "[Parallel(n_jobs=8)]: Done  34 tasks      | elapsed:    0.0s\n",
      "[Parallel(n_jobs=8)]: Done 184 tasks      | elapsed:    0.0s\n",
      "[Parallel(n_jobs=8)]: Done 434 tasks      | elapsed:    0.1s\n",
      "[Parallel(n_jobs=8)]: Done 784 tasks      | elapsed:    0.3s\n",
      "[Parallel(n_jobs=8)]: Done 1000 out of 1000 | elapsed:    0.4s finished\n",
      "[Parallel(n_jobs=-1)]: Using backend LokyBackend with 8 concurrent workers.\n",
      "[Parallel(n_jobs=-1)]: Done  52 tasks      | elapsed:    0.6s\n",
      "[Parallel(n_jobs=-1)]: Done 352 tasks      | elapsed:    4.0s\n",
      "[Parallel(n_jobs=-1)]: Done 852 tasks      | elapsed:    9.5s\n",
      "[Parallel(n_jobs=-1)]: Done 1000 out of 1000 | elapsed:   11.1s finished\n",
      "[Parallel(n_jobs=8)]: Using backend ThreadingBackend with 8 concurrent workers.\n",
      "[Parallel(n_jobs=8)]: Done  34 tasks      | elapsed:    0.0s\n",
      "[Parallel(n_jobs=8)]: Done 184 tasks      | elapsed:    0.0s\n",
      "[Parallel(n_jobs=8)]: Done 434 tasks      | elapsed:    0.1s\n",
      "[Parallel(n_jobs=8)]: Done 784 tasks      | elapsed:    0.2s\n",
      "[Parallel(n_jobs=8)]: Done 1000 out of 1000 | elapsed:    0.3s finished\n",
      "[Parallel(n_jobs=-1)]: Using backend LokyBackend with 8 concurrent workers.\n",
      "[Parallel(n_jobs=-1)]: Done  52 tasks      | elapsed:    0.6s\n",
      "[Parallel(n_jobs=-1)]: Done 352 tasks      | elapsed:    3.8s\n",
      "[Parallel(n_jobs=-1)]: Done 852 tasks      | elapsed:    9.5s\n",
      "[Parallel(n_jobs=-1)]: Done 1000 out of 1000 | elapsed:   11.0s finished\n",
      "[Parallel(n_jobs=8)]: Using backend ThreadingBackend with 8 concurrent workers.\n",
      "[Parallel(n_jobs=8)]: Done  34 tasks      | elapsed:    0.0s\n",
      "[Parallel(n_jobs=8)]: Done 184 tasks      | elapsed:    0.0s\n",
      "[Parallel(n_jobs=8)]: Done 434 tasks      | elapsed:    0.1s\n",
      "[Parallel(n_jobs=8)]: Done 784 tasks      | elapsed:    0.3s\n",
      "[Parallel(n_jobs=8)]: Done 1000 out of 1000 | elapsed:    0.4s finished\n",
      "[Parallel(n_jobs=-1)]: Using backend LokyBackend with 8 concurrent workers.\n",
      "[Parallel(n_jobs=-1)]: Done  52 tasks      | elapsed:    0.9s\n",
      "[Parallel(n_jobs=-1)]: Done 200 out of 200 | elapsed:    3.3s finished\n",
      "[Parallel(n_jobs=8)]: Using backend ThreadingBackend with 8 concurrent workers.\n",
      "[Parallel(n_jobs=8)]: Done  34 tasks      | elapsed:    0.0s\n",
      "[Parallel(n_jobs=8)]: Done 184 tasks      | elapsed:    0.0s\n",
      "[Parallel(n_jobs=8)]: Done 200 out of 200 | elapsed:    0.0s finished\n",
      "[Parallel(n_jobs=-1)]: Using backend LokyBackend with 8 concurrent workers.\n",
      "[Parallel(n_jobs=-1)]: Done  52 tasks      | elapsed:    0.9s\n",
      "[Parallel(n_jobs=-1)]: Done 185 out of 200 | elapsed:    2.9s remaining:    0.1s\n",
      "[Parallel(n_jobs=-1)]: Done 200 out of 200 | elapsed:    3.0s finished\n",
      "[Parallel(n_jobs=8)]: Using backend ThreadingBackend with 8 concurrent workers.\n",
      "[Parallel(n_jobs=8)]: Done  34 tasks      | elapsed:    0.0s\n",
      "[Parallel(n_jobs=8)]: Done 184 tasks      | elapsed:    0.0s\n",
      "[Parallel(n_jobs=8)]: Done 200 out of 200 | elapsed:    0.0s finished\n",
      "[Parallel(n_jobs=-1)]: Using backend LokyBackend with 8 concurrent workers.\n",
      "[Parallel(n_jobs=-1)]: Done  52 tasks      | elapsed:    0.9s\n",
      "[Parallel(n_jobs=-1)]: Done 200 out of 200 | elapsed:    3.2s finished\n",
      "[Parallel(n_jobs=8)]: Using backend ThreadingBackend with 8 concurrent workers.\n",
      "[Parallel(n_jobs=8)]: Done  34 tasks      | elapsed:    0.0s\n",
      "[Parallel(n_jobs=8)]: Done 184 tasks      | elapsed:    0.0s\n",
      "[Parallel(n_jobs=8)]: Done 200 out of 200 | elapsed:    0.0s finished\n",
      "[Parallel(n_jobs=-1)]: Using backend LokyBackend with 8 concurrent workers.\n",
      "[Parallel(n_jobs=-1)]: Done  52 tasks      | elapsed:    0.9s\n",
      "[Parallel(n_jobs=-1)]: Done 185 out of 200 | elapsed:    2.9s remaining:    0.1s\n",
      "[Parallel(n_jobs=-1)]: Done 200 out of 200 | elapsed:    3.1s finished\n",
      "[Parallel(n_jobs=8)]: Using backend ThreadingBackend with 8 concurrent workers.\n",
      "[Parallel(n_jobs=8)]: Done  34 tasks      | elapsed:    0.0s\n",
      "[Parallel(n_jobs=8)]: Done 184 tasks      | elapsed:    0.0s\n",
      "[Parallel(n_jobs=8)]: Done 200 out of 200 | elapsed:    0.0s finished\n",
      "[Parallel(n_jobs=-1)]: Using backend LokyBackend with 8 concurrent workers.\n",
      "[Parallel(n_jobs=-1)]: Done  52 tasks      | elapsed:    0.9s\n",
      "[Parallel(n_jobs=-1)]: Done 185 out of 200 | elapsed:    3.1s remaining:    0.2s\n",
      "[Parallel(n_jobs=-1)]: Done 200 out of 200 | elapsed:    3.2s finished\n",
      "[Parallel(n_jobs=8)]: Using backend ThreadingBackend with 8 concurrent workers.\n",
      "[Parallel(n_jobs=8)]: Done  34 tasks      | elapsed:    0.0s\n",
      "[Parallel(n_jobs=8)]: Done 184 tasks      | elapsed:    0.0s\n",
      "[Parallel(n_jobs=8)]: Done 200 out of 200 | elapsed:    0.0s finished\n",
      "[Parallel(n_jobs=-1)]: Using backend LokyBackend with 8 concurrent workers.\n",
      "[Parallel(n_jobs=-1)]: Done  52 tasks      | elapsed:    0.9s\n",
      "[Parallel(n_jobs=-1)]: Done 352 tasks      | elapsed:    5.6s\n",
      "[Parallel(n_jobs=-1)]: Done 485 out of 500 | elapsed:    7.9s remaining:    0.1s\n",
      "[Parallel(n_jobs=-1)]: Done 500 out of 500 | elapsed:    8.0s finished\n",
      "[Parallel(n_jobs=8)]: Using backend ThreadingBackend with 8 concurrent workers.\n",
      "[Parallel(n_jobs=8)]: Done  34 tasks      | elapsed:    0.0s\n",
      "[Parallel(n_jobs=8)]: Done 184 tasks      | elapsed:    0.0s\n",
      "[Parallel(n_jobs=8)]: Done 434 tasks      | elapsed:    0.1s\n",
      "[Parallel(n_jobs=8)]: Done 500 out of 500 | elapsed:    0.1s finished\n",
      "[Parallel(n_jobs=-1)]: Using backend LokyBackend with 8 concurrent workers.\n",
      "[Parallel(n_jobs=-1)]: Done  52 tasks      | elapsed:    0.9s\n",
      "[Parallel(n_jobs=-1)]: Done 352 tasks      | elapsed:    5.6s\n",
      "[Parallel(n_jobs=-1)]: Done 500 out of 500 | elapsed:    7.9s finished\n",
      "[Parallel(n_jobs=8)]: Using backend ThreadingBackend with 8 concurrent workers.\n",
      "[Parallel(n_jobs=8)]: Done  34 tasks      | elapsed:    0.0s\n",
      "[Parallel(n_jobs=8)]: Done 184 tasks      | elapsed:    0.0s\n",
      "[Parallel(n_jobs=8)]: Done 434 tasks      | elapsed:    0.1s\n",
      "[Parallel(n_jobs=8)]: Done 500 out of 500 | elapsed:    0.1s finished\n",
      "[Parallel(n_jobs=-1)]: Using backend LokyBackend with 8 concurrent workers.\n",
      "[Parallel(n_jobs=-1)]: Done  52 tasks      | elapsed:    0.9s\n",
      "[Parallel(n_jobs=-1)]: Done 352 tasks      | elapsed:    5.6s\n",
      "[Parallel(n_jobs=-1)]: Done 500 out of 500 | elapsed:    8.0s finished\n",
      "[Parallel(n_jobs=8)]: Using backend ThreadingBackend with 8 concurrent workers.\n",
      "[Parallel(n_jobs=8)]: Done  34 tasks      | elapsed:    0.0s\n",
      "[Parallel(n_jobs=8)]: Done 184 tasks      | elapsed:    0.0s\n",
      "[Parallel(n_jobs=8)]: Done 434 tasks      | elapsed:    0.1s\n",
      "[Parallel(n_jobs=8)]: Done 500 out of 500 | elapsed:    0.1s finished\n",
      "[Parallel(n_jobs=-1)]: Using backend LokyBackend with 8 concurrent workers.\n",
      "[Parallel(n_jobs=-1)]: Done  52 tasks      | elapsed:    0.9s\n",
      "[Parallel(n_jobs=-1)]: Done 352 tasks      | elapsed:    5.5s\n",
      "[Parallel(n_jobs=-1)]: Done 500 out of 500 | elapsed:    7.8s finished\n",
      "[Parallel(n_jobs=8)]: Using backend ThreadingBackend with 8 concurrent workers.\n",
      "[Parallel(n_jobs=8)]: Done  34 tasks      | elapsed:    0.0s\n",
      "[Parallel(n_jobs=8)]: Done 184 tasks      | elapsed:    0.0s\n",
      "[Parallel(n_jobs=8)]: Done 434 tasks      | elapsed:    0.1s\n",
      "[Parallel(n_jobs=8)]: Done 500 out of 500 | elapsed:    0.1s finished\n",
      "[Parallel(n_jobs=-1)]: Using backend LokyBackend with 8 concurrent workers.\n",
      "[Parallel(n_jobs=-1)]: Done  52 tasks      | elapsed:    0.9s\n",
      "[Parallel(n_jobs=-1)]: Done 352 tasks      | elapsed:    5.6s\n",
      "[Parallel(n_jobs=-1)]: Done 500 out of 500 | elapsed:    7.9s finished\n",
      "[Parallel(n_jobs=8)]: Using backend ThreadingBackend with 8 concurrent workers.\n",
      "[Parallel(n_jobs=8)]: Done  34 tasks      | elapsed:    0.0s\n",
      "[Parallel(n_jobs=8)]: Done 184 tasks      | elapsed:    0.0s\n",
      "[Parallel(n_jobs=8)]: Done 434 tasks      | elapsed:    0.1s\n",
      "[Parallel(n_jobs=8)]: Done 500 out of 500 | elapsed:    0.1s finished\n",
      "[Parallel(n_jobs=-1)]: Using backend LokyBackend with 8 concurrent workers.\n"
     ]
    },
    {
     "name": "stderr",
     "output_type": "stream",
     "text": [
      "[Parallel(n_jobs=-1)]: Done  52 tasks      | elapsed:    0.9s\n",
      "[Parallel(n_jobs=-1)]: Done 352 tasks      | elapsed:    5.6s\n",
      "[Parallel(n_jobs=-1)]: Done 852 tasks      | elapsed:   13.6s\n",
      "[Parallel(n_jobs=-1)]: Done 1000 out of 1000 | elapsed:   16.3s finished\n",
      "[Parallel(n_jobs=8)]: Using backend ThreadingBackend with 8 concurrent workers.\n",
      "[Parallel(n_jobs=8)]: Done  34 tasks      | elapsed:    0.0s\n",
      "[Parallel(n_jobs=8)]: Done 184 tasks      | elapsed:    0.0s\n",
      "[Parallel(n_jobs=8)]: Done 434 tasks      | elapsed:    0.1s\n",
      "[Parallel(n_jobs=8)]: Done 784 tasks      | elapsed:    0.3s\n",
      "[Parallel(n_jobs=8)]: Done 1000 out of 1000 | elapsed:    0.4s finished\n",
      "[Parallel(n_jobs=-1)]: Using backend LokyBackend with 8 concurrent workers.\n",
      "[Parallel(n_jobs=-1)]: Done  52 tasks      | elapsed:    0.9s\n",
      "[Parallel(n_jobs=-1)]: Done 352 tasks      | elapsed:    5.7s\n",
      "[Parallel(n_jobs=-1)]: Done 852 tasks      | elapsed:   13.7s\n",
      "[Parallel(n_jobs=-1)]: Done 985 out of 1000 | elapsed:   15.7s remaining:    0.1s\n",
      "[Parallel(n_jobs=-1)]: Done 1000 out of 1000 | elapsed:   15.8s finished\n",
      "[Parallel(n_jobs=8)]: Using backend ThreadingBackend with 8 concurrent workers.\n",
      "[Parallel(n_jobs=8)]: Done  34 tasks      | elapsed:    0.0s\n",
      "[Parallel(n_jobs=8)]: Done 184 tasks      | elapsed:    0.0s\n",
      "[Parallel(n_jobs=8)]: Done 434 tasks      | elapsed:    0.1s\n",
      "[Parallel(n_jobs=8)]: Done 784 tasks      | elapsed:    0.3s\n",
      "[Parallel(n_jobs=8)]: Done 1000 out of 1000 | elapsed:    0.4s finished\n",
      "[Parallel(n_jobs=-1)]: Using backend LokyBackend with 8 concurrent workers.\n",
      "[Parallel(n_jobs=-1)]: Done  52 tasks      | elapsed:    0.9s\n",
      "[Parallel(n_jobs=-1)]: Done 352 tasks      | elapsed:    5.8s\n",
      "[Parallel(n_jobs=-1)]: Done 852 tasks      | elapsed:   13.6s\n",
      "[Parallel(n_jobs=-1)]: Done 1000 out of 1000 | elapsed:   15.9s finished\n",
      "[Parallel(n_jobs=8)]: Using backend ThreadingBackend with 8 concurrent workers.\n",
      "[Parallel(n_jobs=8)]: Done  34 tasks      | elapsed:    0.0s\n",
      "[Parallel(n_jobs=8)]: Done 184 tasks      | elapsed:    0.0s\n",
      "[Parallel(n_jobs=8)]: Done 434 tasks      | elapsed:    0.1s\n",
      "[Parallel(n_jobs=8)]: Done 784 tasks      | elapsed:    0.3s\n",
      "[Parallel(n_jobs=8)]: Done 1000 out of 1000 | elapsed:    0.4s finished\n",
      "[Parallel(n_jobs=-1)]: Using backend LokyBackend with 8 concurrent workers.\n",
      "[Parallel(n_jobs=-1)]: Done  52 tasks      | elapsed:    1.1s\n",
      "[Parallel(n_jobs=-1)]: Done 352 tasks      | elapsed:    6.8s\n",
      "[Parallel(n_jobs=-1)]: Done 852 tasks      | elapsed:   15.0s\n",
      "[Parallel(n_jobs=-1)]: Done 1000 out of 1000 | elapsed:   17.2s finished\n",
      "[Parallel(n_jobs=8)]: Using backend ThreadingBackend with 8 concurrent workers.\n",
      "[Parallel(n_jobs=8)]: Done  34 tasks      | elapsed:    0.0s\n",
      "[Parallel(n_jobs=8)]: Done 184 tasks      | elapsed:    0.0s\n",
      "[Parallel(n_jobs=8)]: Done 434 tasks      | elapsed:    0.1s\n",
      "[Parallel(n_jobs=8)]: Done 784 tasks      | elapsed:    0.2s\n",
      "[Parallel(n_jobs=8)]: Done 1000 out of 1000 | elapsed:    0.3s finished\n",
      "[Parallel(n_jobs=-1)]: Using backend LokyBackend with 8 concurrent workers.\n",
      "[Parallel(n_jobs=-1)]: Done  52 tasks      | elapsed:    0.9s\n",
      "[Parallel(n_jobs=-1)]: Done 352 tasks      | elapsed:    5.6s\n",
      "[Parallel(n_jobs=-1)]: Done 852 tasks      | elapsed:   13.4s\n",
      "[Parallel(n_jobs=-1)]: Done 985 out of 1000 | elapsed:   15.5s remaining:    0.1s\n",
      "[Parallel(n_jobs=-1)]: Done 1000 out of 1000 | elapsed:   15.7s finished\n",
      "[Parallel(n_jobs=8)]: Using backend ThreadingBackend with 8 concurrent workers.\n",
      "[Parallel(n_jobs=8)]: Done  34 tasks      | elapsed:    0.0s\n",
      "[Parallel(n_jobs=8)]: Done 184 tasks      | elapsed:    0.0s\n",
      "[Parallel(n_jobs=8)]: Done 434 tasks      | elapsed:    0.1s\n",
      "[Parallel(n_jobs=8)]: Done 784 tasks      | elapsed:    0.3s\n",
      "[Parallel(n_jobs=8)]: Done 1000 out of 1000 | elapsed:    0.4s finished\n",
      "[Parallel(n_jobs=1)]: Done  45 out of  45 | elapsed:  6.2min finished\n",
      "[Parallel(n_jobs=-1)]: Using backend ThreadingBackend with 8 concurrent workers.\n",
      "[Parallel(n_jobs=-1)]: Done  34 tasks      | elapsed:    0.3s\n",
      "[Parallel(n_jobs=-1)]: Done 184 tasks      | elapsed:    1.9s\n",
      "[Parallel(n_jobs=-1)]: Done 200 out of 200 | elapsed:    2.1s finished\n"
     ]
    },
    {
     "data": {
      "text/plain": [
       "RandomizedSearchCV(estimator=RandomForestRegressor(max_depth=10,\n",
       "                                                   n_estimators=200, n_jobs=-1,\n",
       "                                                   verbose=1),\n",
       "                   param_distributions={'max_depth': [8, 10, 15],\n",
       "                                        'n_estimators': [200, 500, 1000]},\n",
       "                   verbose=1)"
      ]
     },
     "execution_count": 91,
     "metadata": {},
     "output_type": "execute_result"
    }
   ],
   "source": [
    "reg_cv = RandomizedSearchCV(rfr, { 'max_depth': [8,10,15], 'n_estimators': [200,500,1000], }, verbose=1)\n",
    "reg_cv.fit(x_train,y_train)"
   ]
  },
  {
   "cell_type": "code",
   "execution_count": 94,
   "metadata": {
    "colab": {
     "base_uri": "https://localhost:8080/"
    },
    "id": "nHSoVDd8V80n",
    "outputId": "319efbf6-a885-4332-ba96-53e09b1490e8"
   },
   "outputs": [
    {
     "data": {
      "text/plain": [
       "{'n_estimators': 200, 'max_depth': 8}"
      ]
     },
     "execution_count": 94,
     "metadata": {},
     "output_type": "execute_result"
    }
   ],
   "source": [
    "# These are the best params for RandomForestRegressor\n",
    "\n",
    "reg_cv.best_params_"
   ]
  },
  {
   "cell_type": "code",
   "execution_count": 95,
   "metadata": {
    "colab": {
     "base_uri": "https://localhost:8080/"
    },
    "id": "PazgccZiWD2i",
    "outputId": "90628914-fc1f-42e5-cff9-7f5e3ed5f4a0"
   },
   "outputs": [
    {
     "data": {
      "text/plain": [
       "RandomForestRegressor(max_depth=8, n_estimators=200)"
      ]
     },
     "execution_count": 95,
     "metadata": {},
     "output_type": "execute_result"
    }
   ],
   "source": [
    "regressor = RandomForestRegressor(n_estimators=200,max_depth= 8)\n",
    "regressor.fit(x_train,y_train)"
   ]
  },
  {
   "cell_type": "code",
   "execution_count": 96,
   "metadata": {
    "colab": {
     "base_uri": "https://localhost:8080/"
    },
    "id": "0ADFTheHWHhX",
    "outputId": "418b47ea-9d36-4af7-f83d-fcd2b6514c44"
   },
   "outputs": [
    {
     "data": {
      "text/plain": [
       "0.49865054249284946"
      ]
     },
     "execution_count": 96,
     "metadata": {},
     "output_type": "execute_result"
    }
   ],
   "source": [
    "regressor.score(X_test,y_test)"
   ]
  },
  {
   "cell_type": "code",
   "execution_count": 97,
   "metadata": {
    "colab": {
     "base_uri": "https://localhost:8080/"
    },
    "id": "uXW4jcreWLp-",
    "outputId": "3464f8ef-bf98-49b2-c282-d7380834a7da"
   },
   "outputs": [],
   "source": [
    "predictions = regressor.predict(X_test)"
   ]
  },
  {
   "cell_type": "markdown",
   "metadata": {},
   "source": [
    "#  Conclusion"
   ]
  },
  {
   "cell_type": "code",
   "execution_count": 98,
   "metadata": {
    "id": "JTCR_0Z89GFx"
   },
   "outputs": [
    {
     "name": "stdout",
     "output_type": "stream",
     "text": [
      "MAE: 3.1922963707997414\n",
      "MSE: 51.90135558930765\n",
      "RMSE: 7.204259544832325\n"
     ]
    }
   ],
   "source": [
    "from sklearn import metrics\n",
    "print('MAE:', metrics.mean_absolute_error(y_test, predictions))\n",
    "print('MSE:', metrics.mean_squared_error(y_test, predictions))\n",
    "print('RMSE:', np.sqrt(metrics.mean_squared_error(y_test, predictions)))"
   ]
  },
  {
   "cell_type": "markdown",
   "metadata": {},
   "source": [
    "> **MAE (Mean absolute error)** : Difference between the original and predicted values extracted by averaged the absolute                                        difference over the data set           \n",
    "\n",
    "> **MSE (Mean Squared Error)** : Difference between the original and predicted values extracted by squared the average difference over the data set.\n",
    "\n",
    "> **RMSE (Root Mean Squared Error)** : The error rate by the square root of MSE"
   ]
  },
  {
   "cell_type": "code",
   "execution_count": 99,
   "metadata": {},
   "outputs": [
    {
     "data": {
      "text/plain": [
       "Index(['invoice_currency', 'total_open_amount', 'cust_payment_terms',\n",
       "       'baseline_month', 'baseline_day', 'due_baseline', 'mean_delay'],\n",
       "      dtype='object')"
      ]
     },
     "execution_count": 99,
     "metadata": {},
     "output_type": "execute_result"
    }
   ],
   "source": [
    "X_test.keys()"
   ]
  },
  {
   "cell_type": "markdown",
   "metadata": {},
   "source": [
    "# Predicting on unknown data"
   ]
  },
  {
   "cell_type": "code",
   "execution_count": 100,
   "metadata": {},
   "outputs": [],
   "source": [
    "# Creating all the previous features on data with clear_date null\n",
    "\n",
    "open_invoice_df.loc[::,['document_create_date','document_create_date.1','due_in_date','baseline_create_date']]=open_invoice_df.loc[::,['document_create_date','document_create_date.1','due_in_date','baseline_create_date']].apply(pd.to_datetime,format='%Y%m%d')\n",
    "open_invoice_df.loc[::,['clear_date','posting_date']]=open_invoice_df.loc[::,['clear_date','posting_date']].apply(pd.to_datetime)\n",
    "open_invoice_df[\"buisness_year\"]=pd.to_datetime(open_invoice_df[\"buisness_year\"],format='%Y').dt.year\n",
    "open_invoice_df['business_code']=businessOrdinalEncoder.transform(open_invoice_df[['business_code']])\n",
    "open_invoice_df['invoice_currency'] = currencyLabelEncoder.transform(open_invoice_df[[\"invoice_currency\"]])\n",
    "open_invoice_df[\"baseline_month\"] = open_invoice_df[\"baseline_create_date\"].dt.month\n",
    "open_invoice_df[\"baseline_day\"] = open_invoice_df[\"baseline_create_date\"].dt.day\n",
    "open_invoice_df[\"due_baseline\"] = (open_invoice_df[\"due_in_date\"] - open_invoice_df[\"baseline_create_date\"]).dt.days\n",
    "open_invoice_df['mean_delay']=open_invoice_df['cust_number'].map(cust_mean_delay)\n",
    "open_invoice_df[\"mean_delay\"] = open_invoice_df[\"mean_delay\"].fillna(open_invoice_df[\"mean_delay\"].mean())\n",
    "warnings.filterwarnings('ignore')"
   ]
  },
  {
   "cell_type": "code",
   "execution_count": 101,
   "metadata": {},
   "outputs": [],
   "source": [
    "open_invoice_df[\"cust_payment_terms\"] = open_invoice_df[\"cust_payment_terms\"].apply(payment_label_encoder)"
   ]
  },
  {
   "cell_type": "code",
   "execution_count": 102,
   "metadata": {},
   "outputs": [
    {
     "name": "stderr",
     "output_type": "stream",
     "text": [
      "[Parallel(n_jobs=8)]: Using backend ThreadingBackend with 8 concurrent workers.\n",
      "[Parallel(n_jobs=8)]: Done  34 tasks      | elapsed:    0.0s\n",
      "[Parallel(n_jobs=8)]: Done 184 tasks      | elapsed:    0.0s\n",
      "[Parallel(n_jobs=8)]: Done 200 out of 200 | elapsed:    0.0s finished\n"
     ]
    }
   ],
   "source": [
    "# Performing Prediction on Unseen Data\n",
    "\n",
    "X_open = open_invoice_df[X_test.keys()]\n",
    "y_open = rfr.predict(X_open)"
   ]
  },
  {
   "cell_type": "code",
   "execution_count": 103,
   "metadata": {},
   "outputs": [],
   "source": [
    "# Calculating new payment date\n",
    "\n",
    "from datetime import timedelta\n",
    "delay = np.array([timedelta(y) for y in y_open]).reshape(-1,1)\n",
    "open_invoice_df[\"clear_date_pred\"] = open_invoice_df[[\"due_in_date\"]] + delay"
   ]
  },
  {
   "cell_type": "code",
   "execution_count": 104,
   "metadata": {},
   "outputs": [],
   "source": [
    "# Putting data into buckets\n",
    "\n",
    "open_invoice_df[\"bucket\"] = pd.cut(y_open,[float(\"-inf\"),0.,15.,30.,45.,60.,float(\"inf\")],labels=[\"less than 0\",\"0-15\",\"16-30\",\"31-45\",\"46-60\",\"greater than 60\"],ordered=False)\n"
   ]
  },
  {
   "cell_type": "code",
   "execution_count": 107,
   "metadata": {},
   "outputs": [
    {
     "data": {
      "text/html": [
       "<div>\n",
       "<style scoped>\n",
       "    .dataframe tbody tr th:only-of-type {\n",
       "        vertical-align: middle;\n",
       "    }\n",
       "\n",
       "    .dataframe tbody tr th {\n",
       "        vertical-align: top;\n",
       "    }\n",
       "\n",
       "    .dataframe thead th {\n",
       "        text-align: right;\n",
       "    }\n",
       "</style>\n",
       "<table border=\"1\" class=\"dataframe\">\n",
       "  <thead>\n",
       "    <tr style=\"text-align: right;\">\n",
       "      <th></th>\n",
       "      <th>business_code</th>\n",
       "      <th>cust_number</th>\n",
       "      <th>name_customer</th>\n",
       "      <th>clear_date</th>\n",
       "      <th>buisness_year</th>\n",
       "      <th>doc_id</th>\n",
       "      <th>posting_date</th>\n",
       "      <th>document_create_date</th>\n",
       "      <th>document_create_date.1</th>\n",
       "      <th>due_in_date</th>\n",
       "      <th>...</th>\n",
       "      <th>baseline_create_date</th>\n",
       "      <th>cust_payment_terms</th>\n",
       "      <th>invoice_id</th>\n",
       "      <th>isOpen</th>\n",
       "      <th>baseline_month</th>\n",
       "      <th>baseline_day</th>\n",
       "      <th>due_baseline</th>\n",
       "      <th>mean_delay</th>\n",
       "      <th>clear_date_pred</th>\n",
       "      <th>bucket</th>\n",
       "    </tr>\n",
       "  </thead>\n",
       "  <tbody>\n",
       "    <tr>\n",
       "      <th>45442</th>\n",
       "      <td>1</td>\n",
       "      <td>0200956366</td>\n",
       "      <td>RICH trust</td>\n",
       "      <td>NaT</td>\n",
       "      <td>2020</td>\n",
       "      <td>1.930757e+09</td>\n",
       "      <td>2020-04-08</td>\n",
       "      <td>2020-04-06</td>\n",
       "      <td>2020-04-08</td>\n",
       "      <td>2020-04-23</td>\n",
       "      <td>...</td>\n",
       "      <td>2020-04-08</td>\n",
       "      <td>999</td>\n",
       "      <td>1.930757e+09</td>\n",
       "      <td>1</td>\n",
       "      <td>4</td>\n",
       "      <td>8</td>\n",
       "      <td>15</td>\n",
       "      <td>1.352941</td>\n",
       "      <td>2020-04-24 08:41:46.155361</td>\n",
       "      <td>0-15</td>\n",
       "    </tr>\n",
       "    <tr>\n",
       "      <th>45443</th>\n",
       "      <td>1</td>\n",
       "      <td>0200769623</td>\n",
       "      <td>WAL-MAR us</td>\n",
       "      <td>NaT</td>\n",
       "      <td>2020</td>\n",
       "      <td>1.930567e+09</td>\n",
       "      <td>2020-02-27</td>\n",
       "      <td>2020-02-25</td>\n",
       "      <td>2020-02-27</td>\n",
       "      <td>2020-03-13</td>\n",
       "      <td>...</td>\n",
       "      <td>2020-02-27</td>\n",
       "      <td>999</td>\n",
       "      <td>1.930567e+09</td>\n",
       "      <td>1</td>\n",
       "      <td>2</td>\n",
       "      <td>27</td>\n",
       "      <td>15</td>\n",
       "      <td>-2.219905</td>\n",
       "      <td>2020-03-10 04:07:38.348368</td>\n",
       "      <td>less than 0</td>\n",
       "    </tr>\n",
       "    <tr>\n",
       "      <th>45444</th>\n",
       "      <td>1</td>\n",
       "      <td>0100031704</td>\n",
       "      <td>DELHAIZE co</td>\n",
       "      <td>NaT</td>\n",
       "      <td>2020</td>\n",
       "      <td>1.930740e+09</td>\n",
       "      <td>2020-04-05</td>\n",
       "      <td>2020-04-03</td>\n",
       "      <td>2020-04-05</td>\n",
       "      <td>2020-04-20</td>\n",
       "      <td>...</td>\n",
       "      <td>2020-04-05</td>\n",
       "      <td>999</td>\n",
       "      <td>1.930740e+09</td>\n",
       "      <td>1</td>\n",
       "      <td>4</td>\n",
       "      <td>5</td>\n",
       "      <td>15</td>\n",
       "      <td>1.386454</td>\n",
       "      <td>2020-04-21 09:11:14.874280</td>\n",
       "      <td>0-15</td>\n",
       "    </tr>\n",
       "    <tr>\n",
       "      <th>45445</th>\n",
       "      <td>1</td>\n",
       "      <td>0200416837</td>\n",
       "      <td>DEC corporation</td>\n",
       "      <td>NaT</td>\n",
       "      <td>2020</td>\n",
       "      <td>1.930672e+09</td>\n",
       "      <td>2020-03-20</td>\n",
       "      <td>2020-03-20</td>\n",
       "      <td>2020-03-20</td>\n",
       "      <td>2020-04-08</td>\n",
       "      <td>...</td>\n",
       "      <td>2020-03-16</td>\n",
       "      <td>999</td>\n",
       "      <td>1.930672e+09</td>\n",
       "      <td>1</td>\n",
       "      <td>3</td>\n",
       "      <td>16</td>\n",
       "      <td>23</td>\n",
       "      <td>-3.917073</td>\n",
       "      <td>2020-04-01 00:44:48.063794</td>\n",
       "      <td>less than 0</td>\n",
       "    </tr>\n",
       "    <tr>\n",
       "      <th>45446</th>\n",
       "      <td>1</td>\n",
       "      <td>0100044010</td>\n",
       "      <td>LAND foundation</td>\n",
       "      <td>NaT</td>\n",
       "      <td>2020</td>\n",
       "      <td>1.930794e+09</td>\n",
       "      <td>2020-04-16</td>\n",
       "      <td>2020-04-16</td>\n",
       "      <td>2020-04-16</td>\n",
       "      <td>2020-05-18</td>\n",
       "      <td>...</td>\n",
       "      <td>2020-04-16</td>\n",
       "      <td>999</td>\n",
       "      <td>1.930794e+09</td>\n",
       "      <td>1</td>\n",
       "      <td>4</td>\n",
       "      <td>16</td>\n",
       "      <td>32</td>\n",
       "      <td>-21.545455</td>\n",
       "      <td>2020-04-25 17:44:38.322877</td>\n",
       "      <td>less than 0</td>\n",
       "    </tr>\n",
       "    <tr>\n",
       "      <th>45447</th>\n",
       "      <td>1</td>\n",
       "      <td>0200086615</td>\n",
       "      <td>INT'L  co</td>\n",
       "      <td>NaT</td>\n",
       "      <td>2020</td>\n",
       "      <td>1.930743e+09</td>\n",
       "      <td>2020-04-09</td>\n",
       "      <td>2020-04-03</td>\n",
       "      <td>2020-04-09</td>\n",
       "      <td>2020-05-09</td>\n",
       "      <td>...</td>\n",
       "      <td>2020-04-09</td>\n",
       "      <td>999</td>\n",
       "      <td>1.930743e+09</td>\n",
       "      <td>1</td>\n",
       "      <td>4</td>\n",
       "      <td>9</td>\n",
       "      <td>30</td>\n",
       "      <td>39.000000</td>\n",
       "      <td>2020-06-20 16:17:52.010761</td>\n",
       "      <td>31-45</td>\n",
       "    </tr>\n",
       "    <tr>\n",
       "      <th>45448</th>\n",
       "      <td>0</td>\n",
       "      <td>0140106408</td>\n",
       "      <td>WAL-M</td>\n",
       "      <td>NaT</td>\n",
       "      <td>2020</td>\n",
       "      <td>2.960625e+09</td>\n",
       "      <td>2020-03-27</td>\n",
       "      <td>2020-03-27</td>\n",
       "      <td>2020-03-27</td>\n",
       "      <td>2020-04-06</td>\n",
       "      <td>...</td>\n",
       "      <td>2020-03-27</td>\n",
       "      <td>999</td>\n",
       "      <td>2.960625e+09</td>\n",
       "      <td>1</td>\n",
       "      <td>3</td>\n",
       "      <td>27</td>\n",
       "      <td>10</td>\n",
       "      <td>9.359060</td>\n",
       "      <td>2020-04-15 05:06:12.294174</td>\n",
       "      <td>0-15</td>\n",
       "    </tr>\n",
       "    <tr>\n",
       "      <th>45449</th>\n",
       "      <td>1</td>\n",
       "      <td>0200772595</td>\n",
       "      <td>SAFEW trust</td>\n",
       "      <td>NaT</td>\n",
       "      <td>2020</td>\n",
       "      <td>1.930641e+09</td>\n",
       "      <td>2020-03-11</td>\n",
       "      <td>2020-03-11</td>\n",
       "      <td>2020-03-11</td>\n",
       "      <td>2020-03-26</td>\n",
       "      <td>...</td>\n",
       "      <td>2020-03-11</td>\n",
       "      <td>999</td>\n",
       "      <td>1.930641e+09</td>\n",
       "      <td>1</td>\n",
       "      <td>3</td>\n",
       "      <td>11</td>\n",
       "      <td>15</td>\n",
       "      <td>0.575581</td>\n",
       "      <td>2020-03-26 14:18:15.489059</td>\n",
       "      <td>0-15</td>\n",
       "    </tr>\n",
       "    <tr>\n",
       "      <th>45450</th>\n",
       "      <td>1</td>\n",
       "      <td>0200769623</td>\n",
       "      <td>WAL-MAR corporation</td>\n",
       "      <td>NaT</td>\n",
       "      <td>2020</td>\n",
       "      <td>1.930676e+09</td>\n",
       "      <td>2020-03-21</td>\n",
       "      <td>2020-03-20</td>\n",
       "      <td>2020-03-21</td>\n",
       "      <td>2020-04-05</td>\n",
       "      <td>...</td>\n",
       "      <td>2020-03-21</td>\n",
       "      <td>999</td>\n",
       "      <td>1.930676e+09</td>\n",
       "      <td>1</td>\n",
       "      <td>3</td>\n",
       "      <td>21</td>\n",
       "      <td>15</td>\n",
       "      <td>-2.219905</td>\n",
       "      <td>2020-04-03 01:11:18.800321</td>\n",
       "      <td>less than 0</td>\n",
       "    </tr>\n",
       "    <tr>\n",
       "      <th>45451</th>\n",
       "      <td>1</td>\n",
       "      <td>0200759878</td>\n",
       "      <td>SA corp</td>\n",
       "      <td>NaT</td>\n",
       "      <td>2020</td>\n",
       "      <td>1.930623e+09</td>\n",
       "      <td>2020-03-09</td>\n",
       "      <td>2020-03-08</td>\n",
       "      <td>2020-03-09</td>\n",
       "      <td>2020-03-24</td>\n",
       "      <td>...</td>\n",
       "      <td>2020-03-09</td>\n",
       "      <td>999</td>\n",
       "      <td>1.930623e+09</td>\n",
       "      <td>1</td>\n",
       "      <td>3</td>\n",
       "      <td>9</td>\n",
       "      <td>15</td>\n",
       "      <td>1.259976</td>\n",
       "      <td>2020-03-25 07:14:48.176797</td>\n",
       "      <td>0-15</td>\n",
       "    </tr>\n",
       "  </tbody>\n",
       "</table>\n",
       "<p>10 rows × 25 columns</p>\n",
       "</div>"
      ],
      "text/plain": [
       "       business_code cust_number        name_customer clear_date  \\\n",
       "45442              1  0200956366           RICH trust        NaT   \n",
       "45443              1  0200769623           WAL-MAR us        NaT   \n",
       "45444              1  0100031704          DELHAIZE co        NaT   \n",
       "45445              1  0200416837      DEC corporation        NaT   \n",
       "45446              1  0100044010      LAND foundation        NaT   \n",
       "45447              1  0200086615            INT'L  co        NaT   \n",
       "45448              0  0140106408               WAL-M         NaT   \n",
       "45449              1  0200772595          SAFEW trust        NaT   \n",
       "45450              1  0200769623  WAL-MAR corporation        NaT   \n",
       "45451              1  0200759878              SA corp        NaT   \n",
       "\n",
       "       buisness_year        doc_id posting_date document_create_date  \\\n",
       "45442           2020  1.930757e+09   2020-04-08           2020-04-06   \n",
       "45443           2020  1.930567e+09   2020-02-27           2020-02-25   \n",
       "45444           2020  1.930740e+09   2020-04-05           2020-04-03   \n",
       "45445           2020  1.930672e+09   2020-03-20           2020-03-20   \n",
       "45446           2020  1.930794e+09   2020-04-16           2020-04-16   \n",
       "45447           2020  1.930743e+09   2020-04-09           2020-04-03   \n",
       "45448           2020  2.960625e+09   2020-03-27           2020-03-27   \n",
       "45449           2020  1.930641e+09   2020-03-11           2020-03-11   \n",
       "45450           2020  1.930676e+09   2020-03-21           2020-03-20   \n",
       "45451           2020  1.930623e+09   2020-03-09           2020-03-08   \n",
       "\n",
       "      document_create_date.1 due_in_date  ...  baseline_create_date  \\\n",
       "45442             2020-04-08  2020-04-23  ...            2020-04-08   \n",
       "45443             2020-02-27  2020-03-13  ...            2020-02-27   \n",
       "45444             2020-04-05  2020-04-20  ...            2020-04-05   \n",
       "45445             2020-03-20  2020-04-08  ...            2020-03-16   \n",
       "45446             2020-04-16  2020-05-18  ...            2020-04-16   \n",
       "45447             2020-04-09  2020-05-09  ...            2020-04-09   \n",
       "45448             2020-03-27  2020-04-06  ...            2020-03-27   \n",
       "45449             2020-03-11  2020-03-26  ...            2020-03-11   \n",
       "45450             2020-03-21  2020-04-05  ...            2020-03-21   \n",
       "45451             2020-03-09  2020-03-24  ...            2020-03-09   \n",
       "\n",
       "      cust_payment_terms    invoice_id  isOpen  baseline_month baseline_day  \\\n",
       "45442                999  1.930757e+09       1               4            8   \n",
       "45443                999  1.930567e+09       1               2           27   \n",
       "45444                999  1.930740e+09       1               4            5   \n",
       "45445                999  1.930672e+09       1               3           16   \n",
       "45446                999  1.930794e+09       1               4           16   \n",
       "45447                999  1.930743e+09       1               4            9   \n",
       "45448                999  2.960625e+09       1               3           27   \n",
       "45449                999  1.930641e+09       1               3           11   \n",
       "45450                999  1.930676e+09       1               3           21   \n",
       "45451                999  1.930623e+09       1               3            9   \n",
       "\n",
       "       due_baseline  mean_delay            clear_date_pred       bucket  \n",
       "45442            15    1.352941 2020-04-24 08:41:46.155361         0-15  \n",
       "45443            15   -2.219905 2020-03-10 04:07:38.348368  less than 0  \n",
       "45444            15    1.386454 2020-04-21 09:11:14.874280         0-15  \n",
       "45445            23   -3.917073 2020-04-01 00:44:48.063794  less than 0  \n",
       "45446            32  -21.545455 2020-04-25 17:44:38.322877  less than 0  \n",
       "45447            30   39.000000 2020-06-20 16:17:52.010761        31-45  \n",
       "45448            10    9.359060 2020-04-15 05:06:12.294174         0-15  \n",
       "45449            15    0.575581 2020-03-26 14:18:15.489059         0-15  \n",
       "45450            15   -2.219905 2020-04-03 01:11:18.800321  less than 0  \n",
       "45451            15    1.259976 2020-03-25 07:14:48.176797         0-15  \n",
       "\n",
       "[10 rows x 25 columns]"
      ]
     },
     "execution_count": 107,
     "metadata": {},
     "output_type": "execute_result"
    }
   ],
   "source": [
    "open_invoice_df.head(10)"
   ]
  },
  {
   "cell_type": "markdown",
   "metadata": {},
   "source": [
    "Here you can see the aging bucket in the dataset."
   ]
  },
  {
   "cell_type": "code",
   "execution_count": null,
   "metadata": {},
   "outputs": [],
   "source": []
  }
 ],
 "metadata": {
  "colab": {
   "collapsed_sections": [],
   "name": "ishwari (1).ipynb",
   "provenance": []
  },
  "kernelspec": {
   "display_name": "Python 3",
   "language": "python",
   "name": "python3"
  },
  "language_info": {
   "codemirror_mode": {
    "name": "ipython",
    "version": 3
   },
   "file_extension": ".py",
   "mimetype": "text/x-python",
   "name": "python",
   "nbconvert_exporter": "python",
   "pygments_lexer": "ipython3",
   "version": "3.8.5"
  }
 },
 "nbformat": 4,
 "nbformat_minor": 1
}
